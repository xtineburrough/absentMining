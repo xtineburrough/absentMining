{
 "cells": [
  {
   "cell_type": "code",
   "execution_count": 1,
   "id": "eb90f91e-4942-4b70-ba82-4f65b677a983",
   "metadata": {},
   "outputs": [],
   "source": [
    "import requests\n",
    "import json\n",
    "from requests.structures import CaseInsensitiveDict\n",
    "url = \"https://api.repo.nypl.org/api/v2/items/search?q=cats&publicDomainOnly=true\"\n",
    "\n",
    "headers = CaseInsensitiveDict()\n",
    "headers[\"Authorization\"] = \"Token token=\\\"66p2y6omgx1gq20g\\\"\"\n",
    "\n",
    "resp = requests.get(url, headers=headers)\n"
   ]
  },
  {
   "cell_type": "code",
   "execution_count": 2,
   "id": "45c32461-4635-4b71-9d6b-c08ab5906aa2",
   "metadata": {},
   "outputs": [
    {
     "name": "stdout",
     "output_type": "stream",
     "text": [
      "[['0ebb0dd0-c6ce-012f-1581-58d385a7bc34', 'Woman ; Woman ; Woman ; Woman ', 'http://digitalcollections.nypl.org/items/0ebb0dd0-c6ce-012f-1581-58d385a7bc34'], ['510d47e2-f5ac-a3d9-e040-e00a18064a99', 'Woman ; Woman ; Woman ; Woman ', 'http://digitalcollections.nypl.org/items/510d47e2-f5ac-a3d9-e040-e00a18064a99'], ['c63c8120-c592-012f-a07c-58d385a7bc34', 'Woman, lovely woman', 'http://digitalcollections.nypl.org/items/c63c8120-c592-012f-a07c-58d385a7bc34'], ['510d47de-188b-a3d9-e040-e00a18064a99', 'Woman, lovely woman', 'http://digitalcollections.nypl.org/items/510d47de-188b-a3d9-e040-e00a18064a99'], ['753519d5-7da8-a958-e040-e00a180619c2', 'Woman, lovely woman', 'http://digitalcollections.nypl.org/items/753519d5-7da8-a958-e040-e00a180619c2'], ['753519d5-7da9-a958-e040-e00a180619c2', 'Woman, lovely woman', 'http://digitalcollections.nypl.org/items/753519d5-7da9-a958-e040-e00a180619c2'], ['753519d5-7daa-a958-e040-e00a180619c2', 'Woman, lovely woman', 'http://digitalcollections.nypl.org/items/753519d5-7daa-a958-e040-e00a180619c2'], ['753519d5-7dad-a958-e040-e00a180619c2', 'Woman, lovely woman', 'http://digitalcollections.nypl.org/items/753519d5-7dad-a958-e040-e00a180619c2'], ['753519d5-7dab-a958-e040-e00a180619c2', 'Woman, lovely woman', 'http://digitalcollections.nypl.org/items/753519d5-7dab-a958-e040-e00a180619c2'], ['753519d5-7dae-a958-e040-e00a180619c2', 'Woman, lovely woman', 'http://digitalcollections.nypl.org/items/753519d5-7dae-a958-e040-e00a180619c2'], ['a5533980-c5bf-012f-c5f3-58d385a7bc34', \"The women's court\", 'http://digitalcollections.nypl.org/items/a5533980-c5bf-012f-c5f3-58d385a7bc34'], ['510d47e4-6008-a3d9-e040-e00a18064a99', \"The women's court\", 'http://digitalcollections.nypl.org/items/510d47e4-6008-a3d9-e040-e00a18064a99'], ['911f1b30-c6b8-012f-1aa7-58d385a7bc34', 'Fashionable women', 'http://digitalcollections.nypl.org/items/911f1b30-c6b8-012f-1aa7-58d385a7bc34'], ['510d47d9-6620-a3d9-e040-e00a18064a99', 'Fashionable women', 'http://digitalcollections.nypl.org/items/510d47d9-6620-a3d9-e040-e00a18064a99'], ['510d47da-dcb4-a3d9-e040-e00a18064a99', 'Slovakian women', 'http://digitalcollections.nypl.org/items/510d47da-dcb4-a3d9-e040-e00a18064a99'], ['10ca6f20-996a-0139-63e7-0242ac110004', 'Slovakian women', 'http://digitalcollections.nypl.org/items/10ca6f20-996a-0139-63e7-0242ac110004'], ['e3d370a0-3991-0135-fcbf-47ebcb1c8430', 'Women weaving', 'http://digitalcollections.nypl.org/items/e3d370a0-3991-0135-fcbf-47ebcb1c8430'], ['1157d170-75cd-0133-7028-00505686d14e', 'Women weaving', 'http://digitalcollections.nypl.org/items/1157d170-75cd-0133-7028-00505686d14e'], ['11fd7ce0-c616-012f-bc9b-58d385a7bc34', 'Old women', 'http://digitalcollections.nypl.org/items/11fd7ce0-c616-012f-bc9b-58d385a7bc34'], ['510d47e3-ac6f-a3d9-e040-e00a18064a99', 'Old women', 'http://digitalcollections.nypl.org/items/510d47e3-ac6f-a3d9-e040-e00a18064a99'], ['04b9c450-7c2c-0133-f288-00505686d14e', 'Ladies', 'http://digitalcollections.nypl.org/items/04b9c450-7c2c-0133-f288-00505686d14e'], ['adc850f0-6421-0135-ae07-315f4b19ab63', 'Ladies', 'http://digitalcollections.nypl.org/items/adc850f0-6421-0135-ae07-315f4b19ab63'], ['adb0e450-6421-0135-b338-37a0671a95c4', 'Ladies', 'http://digitalcollections.nypl.org/items/adb0e450-6421-0135-b338-37a0671a95c4'], ['ad95fd40-6421-0135-4c10-7f7fabe2c6e6', 'Ladies', 'http://digitalcollections.nypl.org/items/ad95fd40-6421-0135-4c10-7f7fabe2c6e6'], ['f0eedee0-75d8-0133-0af2-00505686d14e', 'Lady with cloth', 'http://digitalcollections.nypl.org/items/f0eedee0-75d8-0133-0af2-00505686d14e'], ['3deb8e20-5b56-0135-bed1-2f20199ad1b4', 'Lady writing', 'http://digitalcollections.nypl.org/items/3deb8e20-5b56-0135-bed1-2f20199ad1b4'], ['1ed62640-5b56-0135-8fc8-02189214ee3b', 'Lady reading', 'http://digitalcollections.nypl.org/items/1ed62640-5b56-0135-8fc8-02189214ee3b'], ['2d9bd630-75d9-0133-b1d9-00505686d14e', 'Seated lady', 'http://digitalcollections.nypl.org/items/2d9bd630-75d9-0133-b1d9-00505686d14e'], ['9922e0d0-75dd-0133-544f-00505686d14e', 'Lady with doll', 'http://digitalcollections.nypl.org/items/9922e0d0-75dd-0133-544f-00505686d14e'], ['510d47da-3b29-a3d9-e040-e00a18064a99', 'Ladies shoes', 'http://digitalcollections.nypl.org/items/510d47da-3b29-a3d9-e040-e00a18064a99'], ['04b9c450-7c2c-0133-f288-00505686d14e', 'Ladies', 'http://digitalcollections.nypl.org/items/04b9c450-7c2c-0133-f288-00505686d14e'], ['adc850f0-6421-0135-ae07-315f4b19ab63', 'Ladies', 'http://digitalcollections.nypl.org/items/adc850f0-6421-0135-ae07-315f4b19ab63'], ['adb0e450-6421-0135-b338-37a0671a95c4', 'Ladies', 'http://digitalcollections.nypl.org/items/adb0e450-6421-0135-b338-37a0671a95c4'], ['ad95fd40-6421-0135-4c10-7f7fabe2c6e6', 'Ladies', 'http://digitalcollections.nypl.org/items/ad95fd40-6421-0135-4c10-7f7fabe2c6e6'], ['f0eedee0-75d8-0133-0af2-00505686d14e', 'Lady with cloth', 'http://digitalcollections.nypl.org/items/f0eedee0-75d8-0133-0af2-00505686d14e'], ['3deb8e20-5b56-0135-bed1-2f20199ad1b4', 'Lady writing', 'http://digitalcollections.nypl.org/items/3deb8e20-5b56-0135-bed1-2f20199ad1b4'], ['1ed62640-5b56-0135-8fc8-02189214ee3b', 'Lady reading', 'http://digitalcollections.nypl.org/items/1ed62640-5b56-0135-8fc8-02189214ee3b'], ['2d9bd630-75d9-0133-b1d9-00505686d14e', 'Seated lady', 'http://digitalcollections.nypl.org/items/2d9bd630-75d9-0133-b1d9-00505686d14e'], ['9922e0d0-75dd-0133-544f-00505686d14e', 'Lady with doll', 'http://digitalcollections.nypl.org/items/9922e0d0-75dd-0133-544f-00505686d14e'], ['510d47da-3b29-a3d9-e040-e00a18064a99', 'Ladies shoes', 'http://digitalcollections.nypl.org/items/510d47da-3b29-a3d9-e040-e00a18064a99'], ['76763cbd-15e7-3926-e040-e00a18061826', 'Girls, girls, beautiful girls', 'http://digitalcollections.nypl.org/items/76763cbd-15e7-3926-e040-e00a18061826'], ['76763cbd-15e8-3926-e040-e00a18061826', 'Girls, girls, beautiful girls', 'http://digitalcollections.nypl.org/items/76763cbd-15e8-3926-e040-e00a18061826'], ['76763cbd-15e9-3926-e040-e00a18061826', 'Girls, girls, beautiful girls', 'http://digitalcollections.nypl.org/items/76763cbd-15e9-3926-e040-e00a18061826'], ['0f36e260-c593-012f-65e8-58d385a7bc34', 'Girls, girls, beautiful girls', 'http://digitalcollections.nypl.org/items/0f36e260-c593-012f-65e8-58d385a7bc34'], ['510d47df-f113-a3d9-e040-e00a18064a99', 'Girls, girls, beautiful girls', 'http://digitalcollections.nypl.org/items/510d47df-f113-a3d9-e040-e00a18064a99'], ['fefae4c0-c089-0134-5838-00505686a51c', 'Girl', 'http://digitalcollections.nypl.org/items/fefae4c0-c089-0134-5838-00505686a51c'], ['1042e350-c0b6-0134-39d0-00505686a51c', 'Girl', 'http://digitalcollections.nypl.org/items/1042e350-c0b6-0134-39d0-00505686a51c'], ['510d47e1-b4f3-a3d9-e040-e00a18064a99', 'Paiute girls.', 'http://digitalcollections.nypl.org/items/510d47e1-b4f3-a3d9-e040-e00a18064a99'], ['e7431880-c574-012f-af00-58d385a7bc34', 'Paiute girls.', 'http://digitalcollections.nypl.org/items/e7431880-c574-012f-af00-58d385a7bc34'], ['510d47e1-b4f4-a3d9-e040-e00a18064a99', 'Paiute girls.', 'http://digitalcollections.nypl.org/items/510d47e1-b4f4-a3d9-e040-e00a18064a99'], ['0f36e260-c593-012f-65e8-58d385a7bc34', 'Girls, girls, beautiful girls', 'http://digitalcollections.nypl.org/items/0f36e260-c593-012f-65e8-58d385a7bc34'], ['510d47df-f113-a3d9-e040-e00a18064a99', 'Girls, girls, beautiful girls', 'http://digitalcollections.nypl.org/items/510d47df-f113-a3d9-e040-e00a18064a99'], ['76763cbd-15e7-3926-e040-e00a18061826', 'Girls, girls, beautiful girls', 'http://digitalcollections.nypl.org/items/76763cbd-15e7-3926-e040-e00a18061826'], ['76763cbd-15e8-3926-e040-e00a18061826', 'Girls, girls, beautiful girls', 'http://digitalcollections.nypl.org/items/76763cbd-15e8-3926-e040-e00a18061826'], ['76763cbd-15e9-3926-e040-e00a18061826', 'Girls, girls, beautiful girls', 'http://digitalcollections.nypl.org/items/76763cbd-15e9-3926-e040-e00a18061826'], ['fefae4c0-c089-0134-5838-00505686a51c', 'Girl', 'http://digitalcollections.nypl.org/items/fefae4c0-c089-0134-5838-00505686a51c'], ['1042e350-c0b6-0134-39d0-00505686a51c', 'Girl', 'http://digitalcollections.nypl.org/items/1042e350-c0b6-0134-39d0-00505686a51c'], ['cb2253b0-c637-012f-6e93-58d385a7bc34', 'A girl of the commune.', 'http://digitalcollections.nypl.org/items/cb2253b0-c637-012f-6e93-58d385a7bc34'], ['510d47e2-94fb-a3d9-e040-e00a18064a99', 'A girl of the commune.', 'http://digitalcollections.nypl.org/items/510d47e2-94fb-a3d9-e040-e00a18064a99'], ['9276af80-c6b3-012f-8e67-3c075448cc4b', 'Girl reserves', 'http://digitalcollections.nypl.org/items/9276af80-c6b3-012f-8e67-3c075448cc4b'], ['510d47df-9bcd-a3d9-e040-e00a18064a99', \"A slaveholder's daughter\", 'http://digitalcollections.nypl.org/items/510d47df-9bcd-a3d9-e040-e00a18064a99'], ['45e63c40-c622-012f-fc77-58d385a7bc34', \"A slaveholder's daughter\", 'http://digitalcollections.nypl.org/items/45e63c40-c622-012f-fc77-58d385a7bc34'], ['459aa2f0-c622-012f-6cbd-58d385a7bc34', \"A slaveholder's daughter\", 'http://digitalcollections.nypl.org/items/459aa2f0-c622-012f-6cbd-58d385a7bc34'], ['510d47e4-5d9a-a3d9-e040-e00a18064a99', \"Jephthah's daughter\", 'http://digitalcollections.nypl.org/items/510d47e4-5d9a-a3d9-e040-e00a18064a99'], ['d8d0e4c0-c5bd-012f-628b-58d385a7bc34', \"Jephthah's daughter\", 'http://digitalcollections.nypl.org/items/d8d0e4c0-c5bd-012f-628b-58d385a7bc34'], ['40cf8320-7526-0133-965a-00505686a51c', 'The filial daughter', 'http://digitalcollections.nypl.org/items/40cf8320-7526-0133-965a-00505686a51c'], ['d7e45570-c5bd-012f-c435-58d385a7bc34', \"Jephthah's daughter\", 'http://digitalcollections.nypl.org/items/d7e45570-c5bd-012f-c435-58d385a7bc34'], ['510d47e4-5d97-a3d9-e040-e00a18064a99', \"Jephthah's daughter\", 'http://digitalcollections.nypl.org/items/510d47e4-5d97-a3d9-e040-e00a18064a99'], ['eb8bab80-c5ba-012f-9321-58d385a7bc34', 'The daughter of the forest.', 'http://digitalcollections.nypl.org/items/eb8bab80-c5ba-012f-9321-58d385a7bc34'], ['6c695432-b1d7-ffb0-e040-e00a18061f6b', 'The daughter of the forest.', 'http://digitalcollections.nypl.org/items/6c695432-b1d7-ffb0-e040-e00a18061f6b'], ['44e80b80-c6f7-012f-c1cf-58d385a7bc34', 'Mother', 'http://digitalcollections.nypl.org/items/44e80b80-c6f7-012f-c1cf-58d385a7bc34'], ['a4f13450-56bd-0130-f260-58d385a7bbd0', 'Mother', 'http://digitalcollections.nypl.org/items/a4f13450-56bd-0130-f260-58d385a7bbd0'], ['510d47da-53ae-a3d9-e040-e00a18064a99', 'Mother Machree', 'http://digitalcollections.nypl.org/items/510d47da-53ae-a3d9-e040-e00a18064a99'], ['d0e0c1f0-c5fe-012f-9417-58d385a7bc34', 'Mother Machree', 'http://digitalcollections.nypl.org/items/d0e0c1f0-c5fe-012f-9417-58d385a7bc34'], ['510d47da-53b3-a3d9-e040-e00a18064a99', 'Mother Machree', 'http://digitalcollections.nypl.org/items/510d47da-53b3-a3d9-e040-e00a18064a99'], ['510d47da-53b2-a3d9-e040-e00a18064a99', 'Mother Machree', 'http://digitalcollections.nypl.org/items/510d47da-53b2-a3d9-e040-e00a18064a99'], ['510d47da-53b1-a3d9-e040-e00a18064a99', 'Mother Machree', 'http://digitalcollections.nypl.org/items/510d47da-53b1-a3d9-e040-e00a18064a99'], ['510d47da-53af-a3d9-e040-e00a18064a99', 'Mother Machree', 'http://digitalcollections.nypl.org/items/510d47da-53af-a3d9-e040-e00a18064a99'], ['510d47da-53b0-a3d9-e040-e00a18064a99', 'Mother Machree', 'http://digitalcollections.nypl.org/items/510d47da-53b0-a3d9-e040-e00a18064a99'], ['a2b15f10-c62c-012f-2204-58d385a7bc34', 'A Proud Mother', 'http://digitalcollections.nypl.org/items/a2b15f10-c62c-012f-2204-58d385a7bc34'], ['6e830eb0-087e-0133-7ec3-58d385a7bbd0', 'The widow and the wife', 'http://digitalcollections.nypl.org/items/6e830eb0-087e-0133-7ec3-58d385a7bbd0'], ['6f02a0d0-087e-0133-6b61-58d385a7bbd0', 'The widow and the wife', 'http://digitalcollections.nypl.org/items/6f02a0d0-087e-0133-6b61-58d385a7bbd0'], ['6c7c82b0-087e-0133-7af8-58d385a7bbd0', 'The widow and the wife', 'http://digitalcollections.nypl.org/items/6c7c82b0-087e-0133-7af8-58d385a7bbd0'], ['6cde19e0-087e-0133-6757-58d385a7bbd0', 'The widow and the wife', 'http://digitalcollections.nypl.org/items/6cde19e0-087e-0133-6757-58d385a7bbd0'], ['699cb0a0-087e-0133-d0ec-58d385a7bbd0', 'The widow and the wife', 'http://digitalcollections.nypl.org/items/699cb0a0-087e-0133-d0ec-58d385a7bbd0'], ['69a69650-087e-0133-7802-58d385a7bbd0', 'The widow and the wife', 'http://digitalcollections.nypl.org/items/69a69650-087e-0133-7802-58d385a7bbd0'], ['858b5310-087d-0133-1598-58d385a7bbd0', 'The widow and the wife', 'http://digitalcollections.nypl.org/items/858b5310-087d-0133-1598-58d385a7bbd0'], ['685cf040-087e-0133-7a5a-58d385a7bbd0', 'The widow and the wife', 'http://digitalcollections.nypl.org/items/685cf040-087e-0133-7a5a-58d385a7bbd0'], ['69d8fd60-087e-0133-d664-58d385a7bbd0', 'The widow and the wife', 'http://digitalcollections.nypl.org/items/69d8fd60-087e-0133-d664-58d385a7bbd0'], ['69e2b3b0-087e-0133-447d-58d385a7bbd0', 'The widow and the wife', 'http://digitalcollections.nypl.org/items/69e2b3b0-087e-0133-447d-58d385a7bbd0'], ['4bc3bbf0-c8b1-0131-88f9-58d385a7bbd0', 'Letter: To Miss -- From Miss – -', 'http://digitalcollections.nypl.org/items/4bc3bbf0-c8b1-0131-88f9-58d385a7bbd0'], ['85c511d0-c8b1-0131-bf7e-58d385a7bbd0', 'Letter: To Miss -- From Miss – -', 'http://digitalcollections.nypl.org/items/85c511d0-c8b1-0131-bf7e-58d385a7bbd0'], ['7e910c80-3117-0136-c564-178fc25b21f6', 'Portraits \"Burrell, Miss - Butline, Miss\"', 'http://digitalcollections.nypl.org/items/7e910c80-3117-0136-c564-178fc25b21f6'], ['ea97a3b0-087d-0133-20c4-58d385a7bbd0', 'Miss Brooke', 'http://digitalcollections.nypl.org/items/ea97a3b0-087d-0133-20c4-58d385a7bbd0'], ['ea8d8b00-087d-0133-2612-58d385a7bbd0', 'Miss Brooke', 'http://digitalcollections.nypl.org/items/ea8d8b00-087d-0133-2612-58d385a7bbd0'], ['eaa1af20-087d-0133-f435-58d385a7bbd0', 'Miss Brooke', 'http://digitalcollections.nypl.org/items/eaa1af20-087d-0133-f435-58d385a7bbd0'], ['ea126930-087d-0133-bb84-58d385a7bbd0', 'Miss Brooke', 'http://digitalcollections.nypl.org/items/ea126930-087d-0133-bb84-58d385a7bbd0'], ['ea83be60-087d-0133-f4d3-58d385a7bbd0', 'Miss Brooke', 'http://digitalcollections.nypl.org/items/ea83be60-087d-0133-f4d3-58d385a7bbd0'], ['eb85b7a0-087d-0133-7be2-58d385a7bbd0', 'Miss Brooke', 'http://digitalcollections.nypl.org/items/eb85b7a0-087d-0133-7be2-58d385a7bbd0'], ['ebc9a250-087d-0133-3d38-58d385a7bbd0', 'Miss Brooke', 'http://digitalcollections.nypl.org/items/ebc9a250-087d-0133-3d38-58d385a7bbd0'], ['4bc3bbf0-c8b1-0131-88f9-58d385a7bbd0', 'Letter: To Miss -- From Miss – -', 'http://digitalcollections.nypl.org/items/4bc3bbf0-c8b1-0131-88f9-58d385a7bbd0'], ['85c511d0-c8b1-0131-bf7e-58d385a7bbd0', 'Letter: To Miss -- From Miss – -', 'http://digitalcollections.nypl.org/items/85c511d0-c8b1-0131-bf7e-58d385a7bbd0'], ['7e910c80-3117-0136-c564-178fc25b21f6', 'Portraits \"Burrell, Miss - Butline, Miss\"', 'http://digitalcollections.nypl.org/items/7e910c80-3117-0136-c564-178fc25b21f6'], ['ea97a3b0-087d-0133-20c4-58d385a7bbd0', 'Miss Brooke', 'http://digitalcollections.nypl.org/items/ea97a3b0-087d-0133-20c4-58d385a7bbd0'], ['ea8d8b00-087d-0133-2612-58d385a7bbd0', 'Miss Brooke', 'http://digitalcollections.nypl.org/items/ea8d8b00-087d-0133-2612-58d385a7bbd0'], ['eaa1af20-087d-0133-f435-58d385a7bbd0', 'Miss Brooke', 'http://digitalcollections.nypl.org/items/eaa1af20-087d-0133-f435-58d385a7bbd0'], ['ea126930-087d-0133-bb84-58d385a7bbd0', 'Miss Brooke', 'http://digitalcollections.nypl.org/items/ea126930-087d-0133-bb84-58d385a7bbd0'], ['ea83be60-087d-0133-f4d3-58d385a7bbd0', 'Miss Brooke', 'http://digitalcollections.nypl.org/items/ea83be60-087d-0133-f4d3-58d385a7bbd0'], ['eb85b7a0-087d-0133-7be2-58d385a7bbd0', 'Miss Brooke', 'http://digitalcollections.nypl.org/items/eb85b7a0-087d-0133-7be2-58d385a7bbd0'], ['ebc9a250-087d-0133-3d38-58d385a7bbd0', 'Miss Brooke', 'http://digitalcollections.nypl.org/items/ebc9a250-087d-0133-3d38-58d385a7bbd0'], ['510d47e0-122b-a3d9-e040-e00a18064a99', 'These are the sisters.', 'http://digitalcollections.nypl.org/items/510d47e0-122b-a3d9-e040-e00a18064a99'], ['7ae84220-c539-012f-f765-58d385a7bc34', 'These are the sisters.', 'http://digitalcollections.nypl.org/items/7ae84220-c539-012f-f765-58d385a7bc34'], ['510d47e0-122c-a3d9-e040-e00a18064a99', 'These are the sisters.', 'http://digitalcollections.nypl.org/items/510d47e0-122c-a3d9-e040-e00a18064a99'], ['510d47e0-307f-a3d9-e040-e00a18064a99', 'Two Sisters.', 'http://digitalcollections.nypl.org/items/510d47e0-307f-a3d9-e040-e00a18064a99'], ['510d47e0-307e-a3d9-e040-e00a18064a99', 'Two Sisters.', 'http://digitalcollections.nypl.org/items/510d47e0-307e-a3d9-e040-e00a18064a99'], ['003074b0-c530-012f-a8d5-58d385a7bc34', 'Two Sisters.', 'http://digitalcollections.nypl.org/items/003074b0-c530-012f-a8d5-58d385a7bc34'], ['2ee91480-c6d9-012f-26b0-58d385a7bc34', 'The Hyers Sisters', 'http://digitalcollections.nypl.org/items/2ee91480-c6d9-012f-26b0-58d385a7bc34'], ['510d47da-7335-a3d9-e040-e00a18064a99', 'The Hyers Sisters', 'http://digitalcollections.nypl.org/items/510d47da-7335-a3d9-e040-e00a18064a99'], ['510d47e1-47cb-a3d9-e040-e00a18064a99', 'Three Sisters.', 'http://digitalcollections.nypl.org/items/510d47e1-47cb-a3d9-e040-e00a18064a99'], ['510d47e1-47ca-a3d9-e040-e00a18064a99', 'Three Sisters.', 'http://digitalcollections.nypl.org/items/510d47e1-47ca-a3d9-e040-e00a18064a99'], ['510d47dc-8de1-a3d9-e040-e00a18064a99', 'Si resucitará?', 'http://digitalcollections.nypl.org/items/510d47dc-8de1-a3d9-e040-e00a18064a99'], ['60a4e540-c610-012f-b66c-58d385a7bc34', 'Si resucitará?', 'http://digitalcollections.nypl.org/items/60a4e540-c610-012f-b66c-58d385a7bc34'], ['e46b4d00-c603-012f-a704-58d385a7bc34', 'Il grano si spula, si misura e si depone nei magazzini.', 'http://digitalcollections.nypl.org/items/e46b4d00-c603-012f-a704-58d385a7bc34'], ['510d47d9-479c-a3d9-e040-e00a18064a99', 'Il grano si spula, si misura e si depone nei magazzini.', 'http://digitalcollections.nypl.org/items/510d47d9-479c-a3d9-e040-e00a18064a99'], ['37f5ce80-d9e2-0135-9c52-29f21ed3fc4b', 'Si quis vult ...', 'http://digitalcollections.nypl.org/items/37f5ce80-d9e2-0135-9c52-29f21ed3fc4b'], ['69686d20-54c9-c262-e040-e00a18064252', 'Um-skit-a-rat-trap-si-si-do!', 'http://digitalcollections.nypl.org/items/69686d20-54c9-c262-e040-e00a18064252'], ['69686d20-54ca-c262-e040-e00a18064252', 'Um-skit-a-rat-trap-si-si-do!', 'http://digitalcollections.nypl.org/items/69686d20-54ca-c262-e040-e00a18064252'], ['da0ab410-c58f-012f-a670-58d385a7bc34', 'Um-skit-a-rat-trap-si-si-do!', 'http://digitalcollections.nypl.org/items/da0ab410-c58f-012f-a670-58d385a7bc34'], ['510d47de-0716-a3d9-e040-e00a18064a99', 'Um-skit-a-rat-trap-si-si-do!', 'http://digitalcollections.nypl.org/items/510d47de-0716-a3d9-e040-e00a18064a99'], ['69686d20-54cb-c262-e040-e00a18064252', 'Um-skit-a-rat-trap-si-si-do!', 'http://digitalcollections.nypl.org/items/69686d20-54cb-c262-e040-e00a18064252'], ['b53ba730-c61a-012f-9a76-58d385a7bc34', \"The widow's\", 'http://digitalcollections.nypl.org/items/b53ba730-c61a-012f-9a76-58d385a7bc34'], ['8b897062-dd1a-8499-e040-e00a1806236f', \"The widow's\", 'http://digitalcollections.nypl.org/items/8b897062-dd1a-8499-e040-e00a1806236f'], ['658ca5fe-4627-9ab4-e040-e00a18067d1e', 'The widow', 'http://digitalcollections.nypl.org/items/658ca5fe-4627-9ab4-e040-e00a18067d1e'], ['658ca5fe-4628-9ab4-e040-e00a18067d1e', 'The widow', 'http://digitalcollections.nypl.org/items/658ca5fe-4628-9ab4-e040-e00a18067d1e'], ['658ca5fe-4626-9ab4-e040-e00a18067d1e', 'The widow', 'http://digitalcollections.nypl.org/items/658ca5fe-4626-9ab4-e040-e00a18067d1e'], ['510d47dd-f34e-a3d9-e040-e00a18064a99', 'The widow', 'http://digitalcollections.nypl.org/items/510d47dd-f34e-a3d9-e040-e00a18064a99'], ['658ca5fe-4625-9ab4-e040-e00a18067d1e', 'The widow', 'http://digitalcollections.nypl.org/items/658ca5fe-4625-9ab4-e040-e00a18067d1e'], ['41b51de0-c58e-012f-4832-58d385a7bc34', 'The widow', 'http://digitalcollections.nypl.org/items/41b51de0-c58e-012f-4832-58d385a7bc34'], ['658ca5fe-4629-9ab4-e040-e00a18067d1e', 'The widow', 'http://digitalcollections.nypl.org/items/658ca5fe-4629-9ab4-e040-e00a18067d1e'], ['6c420070-087e-0133-9a00-58d385a7bbd0', 'The widow and the wife', 'http://digitalcollections.nypl.org/items/6c420070-087e-0133-9a00-58d385a7bbd0'], ['e4d158e0-c60d-012f-f127-58d385a7bc34', 'Nursing.', 'http://digitalcollections.nypl.org/items/e4d158e0-c60d-012f-f127-58d385a7bc34'], ['e485fbb0-c60d-012f-9d1f-58d385a7bc34', 'Nursing.', 'http://digitalcollections.nypl.org/items/e485fbb0-c60d-012f-9d1f-58d385a7bc34'], ['e44722a0-c60d-012f-25da-58d385a7bc34', 'Nursing.', 'http://digitalcollections.nypl.org/items/e44722a0-c60d-012f-25da-58d385a7bc34'], ['70a850e0-4712-0130-486f-58d385a7b928', 'Nursing.', 'http://digitalcollections.nypl.org/items/70a850e0-4712-0130-486f-58d385a7b928'], ['8169ff10-4712-0130-bb0c-58d385a7b928', 'Nursing.', 'http://digitalcollections.nypl.org/items/8169ff10-4712-0130-bb0c-58d385a7b928'], ['66f77bc0-4712-0130-564f-58d385a7b928', 'Nursing.', 'http://digitalcollections.nypl.org/items/66f77bc0-4712-0130-564f-58d385a7b928'], ['510d47d9-c880-a3d9-e040-e00a18064a99', 'Young Nurse', 'http://digitalcollections.nypl.org/items/510d47d9-c880-a3d9-e040-e00a18064a99'], ['876777b0-c6ce-012f-7a25-58d385a7bc34', 'Young Nurse', 'http://digitalcollections.nypl.org/items/876777b0-c6ce-012f-7a25-58d385a7bc34'], ['510d47dd-f286-a3d9-e040-e00a18064a99', 'Autographed photographs of nurses', 'http://digitalcollections.nypl.org/items/510d47dd-f286-a3d9-e040-e00a18064a99'], ['c0f27b00-c6d0-012f-4ebd-58d385a7bc34', 'Autographed photographs of nurses', 'http://digitalcollections.nypl.org/items/c0f27b00-c6d0-012f-4ebd-58d385a7bc34'], ['080d32c0-0b11-0134-d18f-00505686a51c', \"Mom Robbins' Restaurant\", 'http://digitalcollections.nypl.org/items/080d32c0-0b11-0134-d18f-00505686a51c'], ['07256c60-0b11-0134-1d59-00505686a51c', \"Mom Robbins' Restaurant\", 'http://digitalcollections.nypl.org/items/07256c60-0b11-0134-1d59-00505686a51c'], ['08af1c00-0b11-0134-510e-00505686a51c', \"Mom Robbins' Restaurant\", 'http://digitalcollections.nypl.org/items/08af1c00-0b11-0134-510e-00505686a51c'], ['064e9fd0-0b31-0134-3a9f-00505686a51c', \"Frauline Alford in Mom Robbins' Restaurant\", 'http://digitalcollections.nypl.org/items/064e9fd0-0b31-0134-3a9f-00505686a51c'], ['05b06e70-0b31-0134-bf72-00505686a51c', \"Frauline Alford in Mom Robbins' Restaurant\", 'http://digitalcollections.nypl.org/items/05b06e70-0b31-0134-bf72-00505686a51c'], ['50369360-0b2e-0134-031b-00505686a51c', \"Frauline Alford in Mom Robbins' Restaurant\", 'http://digitalcollections.nypl.org/items/50369360-0b2e-0134-031b-00505686a51c'], ['3944c260-0b2f-0134-2c05-00505686a51c', 'Alberta Perkins, who portrays Mom Robbins', 'http://digitalcollections.nypl.org/items/3944c260-0b2f-0134-2c05-00505686a51c'], ['0a8cf9c0-0b31-0134-2a0c-00505686a51c', 'Alberta Perkins, who portrays Mom Robbins', 'http://digitalcollections.nypl.org/items/0a8cf9c0-0b31-0134-2a0c-00505686a51c'], ['0b414770-0b31-0134-f9f0-00505686a51c', 'Alberta Perkins, who portrays Mom Robbins', 'http://digitalcollections.nypl.org/items/0b414770-0b31-0134-f9f0-00505686a51c'], ['510d47e1-441f-a3d9-e040-e00a18064a99', 'Mummy', 'http://digitalcollections.nypl.org/items/510d47e1-441f-a3d9-e040-e00a18064a99'], ['000f8710-c605-012f-b529-58d385a7bc34', 'Mummy', 'http://digitalcollections.nypl.org/items/000f8710-c605-012f-b529-58d385a7bc34'], ['510d47e2-9cdd-a3d9-e040-e00a18064a99', 'Mummie.', 'http://digitalcollections.nypl.org/items/510d47e2-9cdd-a3d9-e040-e00a18064a99'], ['eab54200-c6b9-012f-42b7-58d385a7bc34', 'Mummie.', 'http://digitalcollections.nypl.org/items/eab54200-c6b9-012f-42b7-58d385a7bc34'], ['510d47dc-37fa-a3d9-e040-e00a18064a99', 'Mummies.', 'http://digitalcollections.nypl.org/items/510d47dc-37fa-a3d9-e040-e00a18064a99'], ['56792dc0-c6e7-012f-2a1c-58d385a7bc34', 'Mummies.', 'http://digitalcollections.nypl.org/items/56792dc0-c6e7-012f-2a1c-58d385a7bc34'], ['8a870ed0-c5be-012f-7da6-58d385a7bc34', 'Mummies', 'http://digitalcollections.nypl.org/items/8a870ed0-c5be-012f-7da6-58d385a7bc34'], ['510d47e4-19c3-a3d9-e040-e00a18064a99', 'A mummy factory', 'http://digitalcollections.nypl.org/items/510d47e4-19c3-a3d9-e040-e00a18064a99'], ['8ad53a30-c5be-012f-5d59-58d385a7bc34', 'A mummy factory', 'http://digitalcollections.nypl.org/items/8ad53a30-c5be-012f-5d59-58d385a7bc34'], ['deda0fa0-c6b5-012f-c851-58d385a7bc34', \"Mummy's head\", 'http://digitalcollections.nypl.org/items/deda0fa0-c6b5-012f-c851-58d385a7bc34'], ['d1583080-0068-013b-a329-0242ac110003', 'The Bride', 'http://digitalcollections.nypl.org/items/d1583080-0068-013b-a329-0242ac110003'], ['d169b9c0-0068-013b-ae7b-0242ac110003', 'The Bride', 'http://digitalcollections.nypl.org/items/d169b9c0-0068-013b-ae7b-0242ac110003'], ['d17cd410-0068-013b-dc5e-0242ac110003', 'The Bride', 'http://digitalcollections.nypl.org/items/d17cd410-0068-013b-dc5e-0242ac110003'], ['d1904950-0068-013b-cc1a-0242ac110003', 'The Bride', 'http://digitalcollections.nypl.org/items/d1904950-0068-013b-cc1a-0242ac110003'], ['16b73180-ef44-013a-d770-0242ac110003', 'The Bride', 'http://digitalcollections.nypl.org/items/16b73180-ef44-013a-d770-0242ac110003'], ['d14166c0-0068-013b-5039-0242ac110003', 'The Bride', 'http://digitalcollections.nypl.org/items/d14166c0-0068-013b-5039-0242ac110003'], ['d1b69430-0068-013b-fa2d-0242ac110003', 'The Bride', 'http://digitalcollections.nypl.org/items/d1b69430-0068-013b-fa2d-0242ac110003'], ['d1c9e690-0068-013b-d469-0242ac110003', 'The Bride', 'http://digitalcollections.nypl.org/items/d1c9e690-0068-013b-d469-0242ac110003'], ['d1a46460-0068-013b-89f1-0242ac110003', 'The Bride', 'http://digitalcollections.nypl.org/items/d1a46460-0068-013b-89f1-0242ac110003'], ['14434680-c6b8-012f-2fd2-58d385a7bc34', 'Armenian Bride', 'http://digitalcollections.nypl.org/items/14434680-c6b8-012f-2fd2-58d385a7bc34'], ['648bd180-c562-012f-f912-58d385a7bc34', \"Artist's Dream.\", 'http://digitalcollections.nypl.org/items/648bd180-c562-012f-f912-58d385a7bc34'], ['510d47e1-df72-a3d9-e040-e00a18064a99', \"Artist's Dream.\", 'http://digitalcollections.nypl.org/items/510d47e1-df72-a3d9-e040-e00a18064a99'], ['510d47e1-df71-a3d9-e040-e00a18064a99', \"Artist's Dream.\", 'http://digitalcollections.nypl.org/items/510d47e1-df71-a3d9-e040-e00a18064a99'], ['65227de0-6d3f-0134-d85f-00505686a51c', \" L'Artiste\", 'http://digitalcollections.nypl.org/items/65227de0-6d3f-0134-d85f-00505686a51c'], ['f8381310-c562-012f-08f5-58d385a7bc34', \"The Artist's Dream.\", 'http://digitalcollections.nypl.org/items/f8381310-c562-012f-08f5-58d385a7bc34'], ['510d47e1-e0ee-a3d9-e040-e00a18064a99', \"The Artist's Dream.\", 'http://digitalcollections.nypl.org/items/510d47e1-e0ee-a3d9-e040-e00a18064a99'], ['510d47e1-e0ed-a3d9-e040-e00a18064a99', \"The Artist's Dream.\", 'http://digitalcollections.nypl.org/items/510d47e1-e0ed-a3d9-e040-e00a18064a99'], ['5bdd2a10-efb2-0138-2caf-0242ac110003', 'Artistic houses...', 'http://digitalcollections.nypl.org/items/5bdd2a10-efb2-0138-2caf-0242ac110003'], ['dbbfea30-1154-0134-e103-00505686a51c', 'Artist with palette', 'http://digitalcollections.nypl.org/items/dbbfea30-1154-0134-e103-00505686a51c'], ['dc6e9a30-1154-0134-717e-00505686a51c', 'Artist with palette', 'http://digitalcollections.nypl.org/items/dc6e9a30-1154-0134-717e-00505686a51c']]\n"
     ]
    }
   ],
   "source": [
    "search_list= ['woman','women','lady','ladies','girl','girls','daughter','mother','wife','miss','misses','sister','sis','widow','nurse','mom','mummy','bride','artiste']\n",
    "uuid_list=[]\n",
    "final_list = []\n",
    "for i in search_list:\n",
    "    search_info_url = \"https://api.repo.nypl.org/api/v2/items/search?q=\"+i+\"&publicDomainOnly=true\"\n",
    "    resp_img = requests.get(search_info_url, headers=headers)\n",
    "    search_result = resp_img.json()\n",
    "    #print(search_result['nyplAPI']['response']['result'][0])\n",
    "    if search_result['nyplAPI']['response'] != []:\n",
    "        l = len(search_result['nyplAPI']['response']['result'])\n",
    "        if l!=0:\n",
    "            for j in range(l):\n",
    "                uuid = search_result['nyplAPI']['response']['result'][j]['uuid']\n",
    "                titleName = search_result['nyplAPI']['response']['result'][j]['title']\n",
    "                #typeOfResource = search_result['nyplAPI']['response']['result'][j]['typeOfResource']\n",
    "                #removed because not all uuids have a typy of resourse - data inconsistency\n",
    "                itemLink = search_result['nyplAPI']['response']['result'][j]['itemLink']\n",
    "                #imageID = search_result['nyplAPI']['response']['result'][j]['imageID']\n",
    "                #removed because not all uuids have a image id - data inconsistency - eg : text\n",
    "                final_list.append([uuid, titleName, itemLink])\n",
    "                uuid_list.append(uuid)\n",
    "print(final_list)"
   ]
  },
  {
   "cell_type": "code",
   "execution_count": 3,
   "id": "6082a3a0-da4c-41f2-adef-41d6f0c7345c",
   "metadata": {},
   "outputs": [
    {
     "name": "stdout",
     "output_type": "stream",
     "text": [
      "                                     uuid                       titleName  \\\n",
      "0    0ebb0dd0-c6ce-012f-1581-58d385a7bc34  Woman ; Woman ; Woman ; Woman    \n",
      "1    510d47e2-f5ac-a3d9-e040-e00a18064a99  Woman ; Woman ; Woman ; Woman    \n",
      "2    c63c8120-c592-012f-a07c-58d385a7bc34             Woman, lovely woman   \n",
      "3    510d47de-188b-a3d9-e040-e00a18064a99             Woman, lovely woman   \n",
      "4    753519d5-7da8-a958-e040-e00a180619c2             Woman, lovely woman   \n",
      "..                                    ...                             ...   \n",
      "184  510d47e1-e0ee-a3d9-e040-e00a18064a99             The Artist's Dream.   \n",
      "185  510d47e1-e0ed-a3d9-e040-e00a18064a99             The Artist's Dream.   \n",
      "186  5bdd2a10-efb2-0138-2caf-0242ac110003              Artistic houses...   \n",
      "187  dbbfea30-1154-0134-e103-00505686a51c             Artist with palette   \n",
      "188  dc6e9a30-1154-0134-717e-00505686a51c             Artist with palette   \n",
      "\n",
      "                                              itemLink  \n",
      "0    http://digitalcollections.nypl.org/items/0ebb0...  \n",
      "1    http://digitalcollections.nypl.org/items/510d4...  \n",
      "2    http://digitalcollections.nypl.org/items/c63c8...  \n",
      "3    http://digitalcollections.nypl.org/items/510d4...  \n",
      "4    http://digitalcollections.nypl.org/items/75351...  \n",
      "..                                                 ...  \n",
      "184  http://digitalcollections.nypl.org/items/510d4...  \n",
      "185  http://digitalcollections.nypl.org/items/510d4...  \n",
      "186  http://digitalcollections.nypl.org/items/5bdd2...  \n",
      "187  http://digitalcollections.nypl.org/items/dbbfe...  \n",
      "188  http://digitalcollections.nypl.org/items/dc6e9...  \n",
      "\n",
      "[189 rows x 3 columns]\n"
     ]
    }
   ],
   "source": [
    "import pandas as pd\n",
    "df = pd.DataFrame(final_list,columns = ['uuid', 'titleName', 'itemLink', ])\n",
    "\n",
    "print(df)"
   ]
  },
  {
   "cell_type": "code",
   "execution_count": 4,
   "id": "b4800a5c-0b9f-49e6-949b-0de2fab4eb54",
   "metadata": {},
   "outputs": [],
   "source": [
    "df.to_csv('firstds.csv')"
   ]
  },
  {
   "cell_type": "code",
   "execution_count": null,
   "id": "51c835fb-c971-4ef9-917b-2500d759e021",
   "metadata": {},
   "outputs": [],
   "source": []
  },
  {
   "cell_type": "code",
   "execution_count": 37,
   "id": "a81441b1-d589-4d74-8b13-98f9f299b6e9",
   "metadata": {},
   "outputs": [
    {
     "name": "stdout",
     "output_type": "stream",
     "text": [
      "[['510d47e2-f5ac-a3d9-e040-e00a18064a99', 'Woman ; Woman ; Woman ; Woman ', 'http://digitalcollections.nypl.org/items/510d47e2-f5ac-a3d9-e040-e00a18064a99'], ['0ebb0dd0-c6ce-012f-1581-58d385a7bc34', 'Woman ; Woman ; Woman ; Woman ', 'http://digitalcollections.nypl.org/items/0ebb0dd0-c6ce-012f-1581-58d385a7bc34'], ['843db2b0-d869-0130-3e1e-58d385a7b928', 'Overseas woman.', 'http://digitalcollections.nypl.org/items/843db2b0-d869-0130-3e1e-58d385a7b928'], ['0044c880-d869-0130-d0df-58d385a7b928', 'Overseas woman.', 'http://digitalcollections.nypl.org/items/0044c880-d869-0130-d0df-58d385a7b928'], ['005a14e0-d869-0130-5ecb-58d385a7b928', 'Overseas woman.', 'http://digitalcollections.nypl.org/items/005a14e0-d869-0130-5ecb-58d385a7b928'], ['0104adb0-d869-0130-fbac-58d385a7b928', 'Overseas woman.', 'http://digitalcollections.nypl.org/items/0104adb0-d869-0130-fbac-58d385a7b928'], ['015ad740-d869-0130-96a1-58d385a7b928', 'Overseas woman.', 'http://digitalcollections.nypl.org/items/015ad740-d869-0130-96a1-58d385a7b928'], ['00af21a0-d869-0130-02eb-58d385a7b928', 'Overseas woman.', 'http://digitalcollections.nypl.org/items/00af21a0-d869-0130-02eb-58d385a7b928'], ['00ef4f30-d869-0130-c2a2-58d385a7b928', 'Overseas woman.', 'http://digitalcollections.nypl.org/items/00ef4f30-d869-0130-c2a2-58d385a7b928'], ['01f1ef60-d869-0130-fac0-58d385a7b928', 'Overseas woman.', 'http://digitalcollections.nypl.org/items/01f1ef60-d869-0130-fac0-58d385a7b928'], ['985c1360-c6b3-012f-4a27-3c075448cc4b', 'Women in the industry', 'http://digitalcollections.nypl.org/items/985c1360-c6b3-012f-4a27-3c075448cc4b'], ['510d47de-1a54-a3d9-e040-e00a18064a99', 'Women in the industry', 'http://digitalcollections.nypl.org/items/510d47de-1a54-a3d9-e040-e00a18064a99'], ['74e1ee20-c6b3-012f-d552-3c075448cc4b', 'The work of colored women', 'http://digitalcollections.nypl.org/items/74e1ee20-c6b3-012f-d552-3c075448cc4b'], ['510d47de-1d3a-a3d9-e040-e00a18064a99', 'The work of colored women', 'http://digitalcollections.nypl.org/items/510d47de-1d3a-a3d9-e040-e00a18064a99'], ['717620e0-c6b3-012f-a863-3c075448cc4b', 'The work of colored women', 'http://digitalcollections.nypl.org/items/717620e0-c6b3-012f-a863-3c075448cc4b'], ['c5687d50-c6ed-012f-93fb-58d385a7bc34', 'Noted Negro women', 'http://digitalcollections.nypl.org/items/c5687d50-c6ed-012f-93fb-58d385a7bc34'], ['510d47df-7550-a3d9-e040-e00a18064a99', 'Noted Negro women', 'http://digitalcollections.nypl.org/items/510d47df-7550-a3d9-e040-e00a18064a99'], ['9d5db9d0-c605-012f-9bdc-58d385a7bc34', 'Little women, or, Meg, Jo, Beth, and Amy', 'http://digitalcollections.nypl.org/items/9d5db9d0-c605-012f-9bdc-58d385a7bc34'], ['510d47e0-0e82-a3d9-e040-e00a18064a99', 'Nubian women at Kortie, on the Nile.', 'http://digitalcollections.nypl.org/items/510d47e0-0e82-a3d9-e040-e00a18064a99'], ['099e9a90-c6c6-012f-5d45-58d385a7bc34', 'Nubian women at Kortie, on the Nile.', 'http://digitalcollections.nypl.org/items/099e9a90-c6c6-012f-5d45-58d385a7bc34'], ['510d47da-3b29-a3d9-e040-e00a18064a99', 'Ladies shoes', 'http://digitalcollections.nypl.org/items/510d47da-3b29-a3d9-e040-e00a18064a99'], ['829a7210-c6b9-012f-31f5-58d385a7bc34', 'Ladies shoes', 'http://digitalcollections.nypl.org/items/829a7210-c6b9-012f-31f5-58d385a7bc34'], ['e8336430-f45f-0133-9b14-00505686a51c', 'Lady Lancing', 'http://digitalcollections.nypl.org/items/e8336430-f45f-0133-9b14-00505686a51c'], ['c27d0450-f45f-0133-40b7-00505686a51c', 'Lady Lancing', 'http://digitalcollections.nypl.org/items/c27d0450-f45f-0133-40b7-00505686a51c'], ['aa2bbfc0-f45f-0133-7f65-00505686a51c', 'Lady Lancing', 'http://digitalcollections.nypl.org/items/aa2bbfc0-f45f-0133-7f65-00505686a51c'], ['d9ce87f0-f45f-0133-1ded-00505686a51c', 'Lady Lancing', 'http://digitalcollections.nypl.org/items/d9ce87f0-f45f-0133-1ded-00505686a51c'], ['24ca07c0-c606-012f-fd5c-58d385a7bc34', \"Angelica's Ladies Library\", 'http://digitalcollections.nypl.org/items/24ca07c0-c606-012f-fd5c-58d385a7bc34'], ['510d47e0-be9e-a3d9-e040-e00a18064a99', \"Angelica's Ladies Library\", 'http://digitalcollections.nypl.org/items/510d47e0-be9e-a3d9-e040-e00a18064a99'], ['510d47da-3b2b-a3d9-e040-e00a18064a99', \"Ladies' dress shoes of the nineteenth century\", 'http://digitalcollections.nypl.org/items/510d47da-3b2b-a3d9-e040-e00a18064a99'], ['18b91320-004e-0130-d866-58d385a7bc34', \"Ladies' dress shoes of the nineteenth century\", 'http://digitalcollections.nypl.org/items/18b91320-004e-0130-d866-58d385a7bc34'], ['829a7210-c6b9-012f-31f5-58d385a7bc34', 'Ladies shoes', 'http://digitalcollections.nypl.org/items/829a7210-c6b9-012f-31f5-58d385a7bc34'], ['510d47da-3b29-a3d9-e040-e00a18064a99', 'Ladies shoes', 'http://digitalcollections.nypl.org/items/510d47da-3b29-a3d9-e040-e00a18064a99'], ['d9ce87f0-f45f-0133-1ded-00505686a51c', 'Lady Lancing', 'http://digitalcollections.nypl.org/items/d9ce87f0-f45f-0133-1ded-00505686a51c'], ['aa2bbfc0-f45f-0133-7f65-00505686a51c', 'Lady Lancing', 'http://digitalcollections.nypl.org/items/aa2bbfc0-f45f-0133-7f65-00505686a51c'], ['e8336430-f45f-0133-9b14-00505686a51c', 'Lady Lancing', 'http://digitalcollections.nypl.org/items/e8336430-f45f-0133-9b14-00505686a51c'], ['c27d0450-f45f-0133-40b7-00505686a51c', 'Lady Lancing', 'http://digitalcollections.nypl.org/items/c27d0450-f45f-0133-40b7-00505686a51c'], ['510d47da-3b2b-a3d9-e040-e00a18064a99', \"Ladies' dress shoes of the nineteenth century\", 'http://digitalcollections.nypl.org/items/510d47da-3b2b-a3d9-e040-e00a18064a99'], ['18b91320-004e-0130-d866-58d385a7bc34', \"Ladies' dress shoes of the nineteenth century\", 'http://digitalcollections.nypl.org/items/18b91320-004e-0130-d866-58d385a7bc34'], ['24ca07c0-c606-012f-fd5c-58d385a7bc34', \"Angelica's Ladies Library\", 'http://digitalcollections.nypl.org/items/24ca07c0-c606-012f-fd5c-58d385a7bc34'], ['510d47e0-be9e-a3d9-e040-e00a18064a99', \"Angelica's Ladies Library\", 'http://digitalcollections.nypl.org/items/510d47e0-be9e-a3d9-e040-e00a18064a99'], ['76763cbd-15e7-3926-e040-e00a18061826', 'Girls, girls, beautiful girls', 'http://digitalcollections.nypl.org/items/76763cbd-15e7-3926-e040-e00a18061826'], ['76763cbd-15e8-3926-e040-e00a18061826', 'Girls, girls, beautiful girls', 'http://digitalcollections.nypl.org/items/76763cbd-15e8-3926-e040-e00a18061826'], ['76763cbd-15e9-3926-e040-e00a18061826', 'Girls, girls, beautiful girls', 'http://digitalcollections.nypl.org/items/76763cbd-15e9-3926-e040-e00a18061826'], ['0f36e260-c593-012f-65e8-58d385a7bc34', 'Girls, girls, beautiful girls', 'http://digitalcollections.nypl.org/items/0f36e260-c593-012f-65e8-58d385a7bc34'], ['510d47df-f113-a3d9-e040-e00a18064a99', 'Girls, girls, beautiful girls', 'http://digitalcollections.nypl.org/items/510d47df-f113-a3d9-e040-e00a18064a99'], ['8c738f45-e528-75f7-e040-e00a18061204', 'The a la girl', 'http://digitalcollections.nypl.org/items/8c738f45-e528-75f7-e040-e00a18061204'], ['8c738f45-e529-75f7-e040-e00a18061204', 'The a la girl', 'http://digitalcollections.nypl.org/items/8c738f45-e529-75f7-e040-e00a18061204'], ['8c738f45-e52d-75f7-e040-e00a18061204', 'The a la girl', 'http://digitalcollections.nypl.org/items/8c738f45-e52d-75f7-e040-e00a18061204'], ['8c738f45-e52e-75f7-e040-e00a18061204', 'The a la girl', 'http://digitalcollections.nypl.org/items/8c738f45-e52e-75f7-e040-e00a18061204'], ['8c738f45-e530-75f7-e040-e00a18061204', 'The a la girl', 'http://digitalcollections.nypl.org/items/8c738f45-e530-75f7-e040-e00a18061204'], ['0f36e260-c593-012f-65e8-58d385a7bc34', 'Girls, girls, beautiful girls', 'http://digitalcollections.nypl.org/items/0f36e260-c593-012f-65e8-58d385a7bc34'], ['510d47df-f113-a3d9-e040-e00a18064a99', 'Girls, girls, beautiful girls', 'http://digitalcollections.nypl.org/items/510d47df-f113-a3d9-e040-e00a18064a99'], ['76763cbd-15e7-3926-e040-e00a18061826', 'Girls, girls, beautiful girls', 'http://digitalcollections.nypl.org/items/76763cbd-15e7-3926-e040-e00a18061826'], ['76763cbd-15e8-3926-e040-e00a18061826', 'Girls, girls, beautiful girls', 'http://digitalcollections.nypl.org/items/76763cbd-15e8-3926-e040-e00a18061826'], ['76763cbd-15e9-3926-e040-e00a18061826', 'Girls, girls, beautiful girls', 'http://digitalcollections.nypl.org/items/76763cbd-15e9-3926-e040-e00a18061826'], ['8c738f45-e530-75f7-e040-e00a18061204', 'The a la girl', 'http://digitalcollections.nypl.org/items/8c738f45-e530-75f7-e040-e00a18061204'], ['8c738f45-e531-75f7-e040-e00a18061204', 'The a la girl', 'http://digitalcollections.nypl.org/items/8c738f45-e531-75f7-e040-e00a18061204'], ['8c738f45-e52f-75f7-e040-e00a18061204', 'The a la girl', 'http://digitalcollections.nypl.org/items/8c738f45-e52f-75f7-e040-e00a18061204'], ['8c738f45-e528-75f7-e040-e00a18061204', 'The a la girl', 'http://digitalcollections.nypl.org/items/8c738f45-e528-75f7-e040-e00a18061204'], ['8c738f45-e529-75f7-e040-e00a18061204', 'The a la girl', 'http://digitalcollections.nypl.org/items/8c738f45-e529-75f7-e040-e00a18061204'], ['510d47df-9bcd-a3d9-e040-e00a18064a99', \"A slaveholder's daughter\", 'http://digitalcollections.nypl.org/items/510d47df-9bcd-a3d9-e040-e00a18064a99'], ['45e63c40-c622-012f-fc77-58d385a7bc34', \"A slaveholder's daughter\", 'http://digitalcollections.nypl.org/items/45e63c40-c622-012f-fc77-58d385a7bc34'], ['459aa2f0-c622-012f-6cbd-58d385a7bc34', \"A slaveholder's daughter\", 'http://digitalcollections.nypl.org/items/459aa2f0-c622-012f-6cbd-58d385a7bc34'], ['d814c1d0-c5e5-012f-fa72-3c075448cc4b', 'Dance of Herodias Daughter', 'http://digitalcollections.nypl.org/items/d814c1d0-c5e5-012f-fa72-3c075448cc4b'], ['8d67f945-ea37-39d5-e040-e00a18064cc9', 'Dance of Herodias Daughter', 'http://digitalcollections.nypl.org/items/8d67f945-ea37-39d5-e040-e00a18064cc9'], ['8915b580-1348-0131-dc36-58d385a7b928', 'Visions of the daughters of Albion ...', 'http://digitalcollections.nypl.org/items/8915b580-1348-0131-dc36-58d385a7b928'], ['1e8d2860-134b-0131-5ac5-58d385a7bbd0', 'Visions of the daughters of Albion ...', 'http://digitalcollections.nypl.org/items/1e8d2860-134b-0131-5ac5-58d385a7bbd0'], ['1ea3bdb0-134b-0131-ce34-58d385a7bbd0', 'Visions of the daughters of Albion ...', 'http://digitalcollections.nypl.org/items/1ea3bdb0-134b-0131-ce34-58d385a7bbd0'], ['1e779aa0-134b-0131-5d29-58d385a7bbd0', 'Visions of the daughters of Albion ...', 'http://digitalcollections.nypl.org/items/1e779aa0-134b-0131-5d29-58d385a7bbd0'], ['1eba2f30-134b-0131-6d53-58d385a7bbd0', 'Visions of the daughters of Albion ...', 'http://digitalcollections.nypl.org/items/1eba2f30-134b-0131-6d53-58d385a7bbd0'], ['6afce12b-c829-8906-e040-e00a1806667c', \"Mother Hubbard's dog.\", 'http://digitalcollections.nypl.org/items/6afce12b-c829-8906-e040-e00a1806667c'], ['99c98860-c5bc-012f-7bd6-58d385a7bc34', \"Mother Hubbard's dog.\", 'http://digitalcollections.nypl.org/items/99c98860-c5bc-012f-7bd6-58d385a7bc34'], ['0fa947e0-c5bc-012f-0314-58d385a7bc34', 'My mother, and your mother, went over the way.', 'http://digitalcollections.nypl.org/items/0fa947e0-c5bc-012f-0314-58d385a7bc34'], ['68dc0359-7815-7a41-e040-e00a1806442f', 'My mother, and your mother, went over the way.', 'http://digitalcollections.nypl.org/items/68dc0359-7815-7a41-e040-e00a1806442f'], ['9a1c8b50-c5bc-012f-01ed-58d385a7bc34', \"Mother Hubbard's dog reading a newspaper.\", 'http://digitalcollections.nypl.org/items/9a1c8b50-c5bc-012f-01ed-58d385a7bc34'], ['6afce12b-c82a-8906-e040-e00a1806667c', \"Mother Hubbard's dog reading a newspaper.\", 'http://digitalcollections.nypl.org/items/6afce12b-c82a-8906-e040-e00a1806667c'], ['4d17e1b0-c618-012f-08db-58d385a7bc34', 'Mother and mammy.', 'http://digitalcollections.nypl.org/items/4d17e1b0-c618-012f-08db-58d385a7bc34'], ['510d47df-b766-a3d9-e040-e00a18064a99', 'Mother and mammy.', 'http://digitalcollections.nypl.org/items/510d47df-b766-a3d9-e040-e00a18064a99'], ['61e2a1a0-24bf-0136-05b8-2d95d781d186', 'Geological map of the Mother Lode region ', 'http://digitalcollections.nypl.org/items/61e2a1a0-24bf-0136-05b8-2d95d781d186'], ['b0b75680-1654-0136-7910-656c96f6a1c0', 'Geological map of the Mother Lode region ', 'http://digitalcollections.nypl.org/items/b0b75680-1654-0136-7910-656c96f6a1c0'], ['c82a8e70-1394-0133-6e75-58d385a7bbd0', 'Irene Castle in The amateur wife', 'http://digitalcollections.nypl.org/items/c82a8e70-1394-0133-6e75-58d385a7bbd0'], ['510d47e3-8812-a3d9-e040-e00a18064a99', 'Irene Castle in The amateur wife', 'http://digitalcollections.nypl.org/items/510d47e3-8812-a3d9-e040-e00a18064a99'], ['bf5957c0-2e9c-0135-1283-0fb9b880953f', 'Husband and wife rocks', 'http://digitalcollections.nypl.org/items/bf5957c0-2e9c-0135-1283-0fb9b880953f'], ['bf438520-2e9c-0135-da94-5d6bbda59d87', 'Husband and wife rocks', 'http://digitalcollections.nypl.org/items/bf438520-2e9c-0135-da94-5d6bbda59d87'], ['6d0c3810-87f4-0133-455b-00505686d14e', 'Husband and wife rocks', 'http://digitalcollections.nypl.org/items/6d0c3810-87f4-0133-455b-00505686d14e'], ['a2972580-f813-0136-6168-17683ca52d9b', 'Peter Motzfeldt and wife', 'http://digitalcollections.nypl.org/items/a2972580-f813-0136-6168-17683ca52d9b'], ['0a534dc0-f819-0136-c625-0fbd491932e5', 'Peter Motzfeldt and wife', 'http://digitalcollections.nypl.org/items/0a534dc0-f819-0136-c625-0fbd491932e5'], ['6c420070-087e-0133-9a00-58d385a7bbd0', 'The widow and the wife', 'http://digitalcollections.nypl.org/items/6c420070-087e-0133-9a00-58d385a7bbd0'], ['6c2ed6a0-087e-0133-e900-58d385a7bbd0', 'The widow and the wife', 'http://digitalcollections.nypl.org/items/6c2ed6a0-087e-0133-e900-58d385a7bbd0'], ['6c3875c0-087e-0133-b298-58d385a7bbd0', 'The widow and the wife', 'http://digitalcollections.nypl.org/items/6c3875c0-087e-0133-b298-58d385a7bbd0'], ['409cb660-c6cf-012f-f4e7-58d385a7bc34', 'Daughters of the Eve and Dawn\"; Miss Delma Holland; Miss Bell Watkins; Miss Ethel Moses; Miss C. Washington.', 'http://digitalcollections.nypl.org/items/409cb660-c6cf-012f-f4e7-58d385a7bc34'], ['510d47df-a170-a3d9-e040-e00a18064a99', 'Daughters of the Eve and Dawn\"; Miss Delma Holland; Miss Bell Watkins; Miss Ethel Moses; Miss C. Washington.', 'http://digitalcollections.nypl.org/items/510d47df-a170-a3d9-e040-e00a18064a99'], ['4bc3bbf0-c8b1-0131-88f9-58d385a7bbd0', 'Letter: To Miss -- From Miss – -', 'http://digitalcollections.nypl.org/items/4bc3bbf0-c8b1-0131-88f9-58d385a7bbd0'], ['85c511d0-c8b1-0131-bf7e-58d385a7bbd0', 'Letter: To Miss -- From Miss – -', 'http://digitalcollections.nypl.org/items/85c511d0-c8b1-0131-bf7e-58d385a7bbd0'], ['5bad6b50-c592-012f-fb87-58d385a7bc34', 'Miss Modesty', 'http://digitalcollections.nypl.org/items/5bad6b50-c592-012f-fb87-58d385a7bc34'], ['510d47de-17f5-a3d9-e040-e00a18064a99', 'Miss Modesty', 'http://digitalcollections.nypl.org/items/510d47de-17f5-a3d9-e040-e00a18064a99'], ['7222e9d8-4a30-e042-e040-e00a18060889', 'Miss Modesty', 'http://digitalcollections.nypl.org/items/7222e9d8-4a30-e042-e040-e00a18060889'], ['7222e9d8-4a31-e042-e040-e00a18060889', 'Miss Modesty', 'http://digitalcollections.nypl.org/items/7222e9d8-4a31-e042-e040-e00a18060889'], ['7222e9d8-4a33-e042-e040-e00a18060889', 'Miss Modesty', 'http://digitalcollections.nypl.org/items/7222e9d8-4a33-e042-e040-e00a18060889'], ['7222e9d8-4a34-e042-e040-e00a18060889', 'Miss Modesty', 'http://digitalcollections.nypl.org/items/7222e9d8-4a34-e042-e040-e00a18060889'], ['409cb660-c6cf-012f-f4e7-58d385a7bc34', 'Daughters of the Eve and Dawn\"; Miss Delma Holland; Miss Bell Watkins; Miss Ethel Moses; Miss C. Washington.', 'http://digitalcollections.nypl.org/items/409cb660-c6cf-012f-f4e7-58d385a7bc34'], ['510d47df-a170-a3d9-e040-e00a18064a99', 'Daughters of the Eve and Dawn\"; Miss Delma Holland; Miss Bell Watkins; Miss Ethel Moses; Miss C. Washington.', 'http://digitalcollections.nypl.org/items/510d47df-a170-a3d9-e040-e00a18064a99'], ['4bc3bbf0-c8b1-0131-88f9-58d385a7bbd0', 'Letter: To Miss -- From Miss – -', 'http://digitalcollections.nypl.org/items/4bc3bbf0-c8b1-0131-88f9-58d385a7bbd0'], ['85c511d0-c8b1-0131-bf7e-58d385a7bbd0', 'Letter: To Miss -- From Miss – -', 'http://digitalcollections.nypl.org/items/85c511d0-c8b1-0131-bf7e-58d385a7bbd0'], ['510d47de-17f5-a3d9-e040-e00a18064a99', 'Miss Modesty', 'http://digitalcollections.nypl.org/items/510d47de-17f5-a3d9-e040-e00a18064a99'], ['7222e9d8-4a30-e042-e040-e00a18060889', 'Miss Modesty', 'http://digitalcollections.nypl.org/items/7222e9d8-4a30-e042-e040-e00a18060889'], ['7222e9d8-4a31-e042-e040-e00a18060889', 'Miss Modesty', 'http://digitalcollections.nypl.org/items/7222e9d8-4a31-e042-e040-e00a18060889'], ['7222e9d8-4a33-e042-e040-e00a18060889', 'Miss Modesty', 'http://digitalcollections.nypl.org/items/7222e9d8-4a33-e042-e040-e00a18060889'], ['7222e9d8-4a34-e042-e040-e00a18060889', 'Miss Modesty', 'http://digitalcollections.nypl.org/items/7222e9d8-4a34-e042-e040-e00a18060889'], ['7222e9d8-4a32-e042-e040-e00a18060889', 'Miss Modesty', 'http://digitalcollections.nypl.org/items/7222e9d8-4a32-e042-e040-e00a18060889'], ['6ad45298-a0ab-e375-e040-e00a1806159b', 'Little brother and little sister', 'http://digitalcollections.nypl.org/items/6ad45298-a0ab-e375-e040-e00a1806159b'], ['8c5bad70-c5ba-012f-728f-58d385a7bc34', 'Little brother and little sister', 'http://digitalcollections.nypl.org/items/8c5bad70-c5ba-012f-728f-58d385a7bc34'], ['8da13130-c5ba-012f-6ea3-58d385a7bc34', 'Brüderchen und Schwesterchen.', 'http://digitalcollections.nypl.org/items/8da13130-c5ba-012f-6ea3-58d385a7bc34'], ['6ad45298-a0ae-e375-e040-e00a1806159b', 'Brüderchen und Schwesterchen.', 'http://digitalcollections.nypl.org/items/6ad45298-a0ae-e375-e040-e00a1806159b'], ['95d7b340-f819-0136-87c2-5752fcf3cac1', 'Sophy and her sister Marea', 'http://digitalcollections.nypl.org/items/95d7b340-f819-0136-87c2-5752fcf3cac1'], ['588320f0-f815-0136-ef67-39fe9262825f', 'Sophy and her sister Marea', 'http://digitalcollections.nypl.org/items/588320f0-f815-0136-ef67-39fe9262825f'], ['b88fb790-c606-012f-2e23-58d385a7bc34', 'Lord Buckhorst and sister.', 'http://digitalcollections.nypl.org/items/b88fb790-c606-012f-2e23-58d385a7bc34'], ['903b7198-457e-3fd2-e040-e00a18065e61', 'Lord Buckhorst and sister.', 'http://digitalcollections.nypl.org/items/903b7198-457e-3fd2-e040-e00a18065e61'], ['b12904ef-a832-84a6-e040-e00a18062103', '3 Sisters Restaurant', 'http://digitalcollections.nypl.org/items/b12904ef-a832-84a6-e040-e00a18062103'], ['b64ff620-c550-012f-3506-58d385a7bc34', '3 Sisters Restaurant', 'http://digitalcollections.nypl.org/items/b64ff620-c550-012f-3506-58d385a7bc34'], ['e9d891c0-b6da-0132-4639-58d385a7bbd0', 'Mde. Hilligsberg in the ballet of Ken-si & Tao, performed for her Benefit the 14th of May 1801', 'http://digitalcollections.nypl.org/items/e9d891c0-b6da-0132-4639-58d385a7bbd0'], ['6177cc00-18c3-0131-1291-58d385a7bbd0', 'Mde. Hilligsberg in the ballet of Ken-si & Tao, performed for her Benefit the 14th of May 1801', 'http://digitalcollections.nypl.org/items/6177cc00-18c3-0131-1291-58d385a7bbd0'], ['5c995760-18c3-0131-b909-58d385a7bbd0', 'Mde. Hilligsberg in the ballet of Ken-si & Tao, performed for her Benefit the 14th of May 1801', 'http://digitalcollections.nypl.org/items/5c995760-18c3-0131-b909-58d385a7bbd0'], ['0d44b800-b6db-0132-ee41-58d385a7bbd0', 'Mde. Hilligsberg in the ballet of Ken-si & Tao, performed for her Benefit the 14th of May 1801', 'http://digitalcollections.nypl.org/items/0d44b800-b6db-0132-ee41-58d385a7bbd0'], ['69686d20-54c9-c262-e040-e00a18064252', 'Um-skit-a-rat-trap-si-si-do!', 'http://digitalcollections.nypl.org/items/69686d20-54c9-c262-e040-e00a18064252'], ['69686d20-54ca-c262-e040-e00a18064252', 'Um-skit-a-rat-trap-si-si-do!', 'http://digitalcollections.nypl.org/items/69686d20-54ca-c262-e040-e00a18064252'], ['da0ab410-c58f-012f-a670-58d385a7bc34', 'Um-skit-a-rat-trap-si-si-do!', 'http://digitalcollections.nypl.org/items/da0ab410-c58f-012f-a670-58d385a7bc34'], ['510d47de-0716-a3d9-e040-e00a18064a99', 'Um-skit-a-rat-trap-si-si-do!', 'http://digitalcollections.nypl.org/items/510d47de-0716-a3d9-e040-e00a18064a99'], ['69686d20-54cb-c262-e040-e00a18064252', 'Um-skit-a-rat-trap-si-si-do!', 'http://digitalcollections.nypl.org/items/69686d20-54cb-c262-e040-e00a18064252'], ['69686d20-54cc-c262-e040-e00a18064252', 'Um-skit-a-rat-trap-si-si-do!', 'http://digitalcollections.nypl.org/items/69686d20-54cc-c262-e040-e00a18064252'], ['510d47e2-cf57-a3d9-e040-e00a18064a99', 'The fascinating widow', 'http://digitalcollections.nypl.org/items/510d47e2-cf57-a3d9-e040-e00a18064a99'], ['510d47e2-cf58-a3d9-e040-e00a18064a99', 'The fascinating widow', 'http://digitalcollections.nypl.org/items/510d47e2-cf58-a3d9-e040-e00a18064a99'], ['510d47e2-cf5b-a3d9-e040-e00a18064a99', 'The fascinating widow', 'http://digitalcollections.nypl.org/items/510d47e2-cf5b-a3d9-e040-e00a18064a99'], ['510d47e2-cf59-a3d9-e040-e00a18064a99', 'The fascinating widow', 'http://digitalcollections.nypl.org/items/510d47e2-cf59-a3d9-e040-e00a18064a99'], ['510d47e2-cf5c-a3d9-e040-e00a18064a99', 'The fascinating widow', 'http://digitalcollections.nypl.org/items/510d47e2-cf5c-a3d9-e040-e00a18064a99'], ['156f79c0-c642-012f-cd86-58d385a7bc34', 'The fascinating widow', 'http://digitalcollections.nypl.org/items/156f79c0-c642-012f-cd86-58d385a7bc34'], ['510d47e2-cf5a-a3d9-e040-e00a18064a99', 'The fascinating widow', 'http://digitalcollections.nypl.org/items/510d47e2-cf5a-a3d9-e040-e00a18064a99'], ['510d47e2-cf5e-a3d9-e040-e00a18064a99', 'The fascinating widow', 'http://digitalcollections.nypl.org/items/510d47e2-cf5e-a3d9-e040-e00a18064a99'], ['510d47e2-cf5d-a3d9-e040-e00a18064a99', 'The fascinating widow', 'http://digitalcollections.nypl.org/items/510d47e2-cf5d-a3d9-e040-e00a18064a99'], ['6c420070-087e-0133-9a00-58d385a7bbd0', 'The widow and the wife', 'http://digitalcollections.nypl.org/items/6c420070-087e-0133-9a00-58d385a7bbd0'], ['4b9eda80-2f71-0135-e2d8-05b5f33fc3b4', 'One Hundred Poems Explained by the Nurse', 'http://digitalcollections.nypl.org/items/4b9eda80-2f71-0135-e2d8-05b5f33fc3b4'], ['d383cac0-84c9-0133-7332-00505686d14e', 'One Hundred Poems Explained by the Nurse', 'http://digitalcollections.nypl.org/items/d383cac0-84c9-0133-7332-00505686d14e'], ['d53d2330-84c9-0133-51cb-00505686d14e', 'One Hundred Poems Explained by the Nurse', 'http://digitalcollections.nypl.org/items/d53d2330-84c9-0133-51cb-00505686d14e'], ['35afe4c0-2f71-0135-34a9-5543d9af61a8', 'One Hundred Poems Explained by the Nurse', 'http://digitalcollections.nypl.org/items/35afe4c0-2f71-0135-34a9-5543d9af61a8'], ['6e2373a1-f75d-dea7-e040-e00a18061b64', 'The first convention of the National Association of Colored Graduate Nurses, Boston, 1909', 'http://digitalcollections.nypl.org/items/6e2373a1-f75d-dea7-e040-e00a18061b64'], ['9d86cda0-c6c3-012f-6270-3c075448cc4b', 'The first convention of the National Association of Colored Graduate Nurses, Boston, 1909', 'http://digitalcollections.nypl.org/items/9d86cda0-c6c3-012f-6270-3c075448cc4b'], ['510d47de-4d2c-a3d9-e040-e00a18064a99', \"Nurses' Training School; A class of nurses at study; Frederick Douglass Hospital, Philadelphia, Pa.\", 'http://digitalcollections.nypl.org/items/510d47de-4d2c-a3d9-e040-e00a18064a99'], ['a7ded160-c6db-012f-adc8-3c075448cc4b', \"Nurses' Training School; A class of nurses at study; Frederick Douglass Hospital, Philadelphia, Pa.\", 'http://digitalcollections.nypl.org/items/a7ded160-c6db-012f-adc8-3c075448cc4b'], ['510d47d9-c880-a3d9-e040-e00a18064a99', 'Young Nurse', 'http://digitalcollections.nypl.org/items/510d47d9-c880-a3d9-e040-e00a18064a99'], ['876777b0-c6ce-012f-7a25-58d385a7bc34', 'Young Nurse', 'http://digitalcollections.nypl.org/items/876777b0-c6ce-012f-7a25-58d385a7bc34'], ['07256c60-0b11-0134-1d59-00505686a51c', \"Mom Robbins' Restaurant\", 'http://digitalcollections.nypl.org/items/07256c60-0b11-0134-1d59-00505686a51c'], ['08af1c00-0b11-0134-510e-00505686a51c', \"Mom Robbins' Restaurant\", 'http://digitalcollections.nypl.org/items/08af1c00-0b11-0134-510e-00505686a51c'], ['080d32c0-0b11-0134-d18f-00505686a51c', \"Mom Robbins' Restaurant\", 'http://digitalcollections.nypl.org/items/080d32c0-0b11-0134-d18f-00505686a51c'], ['50369360-0b2e-0134-031b-00505686a51c', \"Frauline Alford in Mom Robbins' Restaurant\", 'http://digitalcollections.nypl.org/items/50369360-0b2e-0134-031b-00505686a51c'], ['064e9fd0-0b31-0134-3a9f-00505686a51c', \"Frauline Alford in Mom Robbins' Restaurant\", 'http://digitalcollections.nypl.org/items/064e9fd0-0b31-0134-3a9f-00505686a51c'], ['05b06e70-0b31-0134-bf72-00505686a51c', \"Frauline Alford in Mom Robbins' Restaurant\", 'http://digitalcollections.nypl.org/items/05b06e70-0b31-0134-bf72-00505686a51c'], ['3944c260-0b2f-0134-2c05-00505686a51c', 'Alberta Perkins, who portrays Mom Robbins', 'http://digitalcollections.nypl.org/items/3944c260-0b2f-0134-2c05-00505686a51c'], ['0a8cf9c0-0b31-0134-2a0c-00505686a51c', 'Alberta Perkins, who portrays Mom Robbins', 'http://digitalcollections.nypl.org/items/0a8cf9c0-0b31-0134-2a0c-00505686a51c'], ['0b414770-0b31-0134-f9f0-00505686a51c', 'Alberta Perkins, who portrays Mom Robbins', 'http://digitalcollections.nypl.org/items/0b414770-0b31-0134-f9f0-00505686a51c'], ['510d47e4-19c3-a3d9-e040-e00a18064a99', 'A mummy factory', 'http://digitalcollections.nypl.org/items/510d47e4-19c3-a3d9-e040-e00a18064a99'], ['8ad53a30-c5be-012f-5d59-58d385a7bc34', 'A mummy factory', 'http://digitalcollections.nypl.org/items/8ad53a30-c5be-012f-5d59-58d385a7bc34'], ['4cde5170-c5bf-012f-56e2-58d385a7bc34', 'Mummy portrait of a woman', 'http://digitalcollections.nypl.org/items/4cde5170-c5bf-012f-56e2-58d385a7bc34'], ['510d47e4-6090-a3d9-e040-e00a18064a99', 'Mummy portrait of a woman', 'http://digitalcollections.nypl.org/items/510d47e4-6090-a3d9-e040-e00a18064a99'], ['8b2b33e0-c5be-012f-4c25-58d385a7bc34', 'Mummified animals', 'http://digitalcollections.nypl.org/items/8b2b33e0-c5be-012f-4c25-58d385a7bc34'], ['510d47e4-19c4-a3d9-e040-e00a18064a99', 'Mummified animals', 'http://digitalcollections.nypl.org/items/510d47e4-19c4-a3d9-e040-e00a18064a99'], ['4be6d470-c5bf-012f-5b30-58d385a7bc34', 'Mummy portrait of a woman from Fayum, Egypt', 'http://digitalcollections.nypl.org/items/4be6d470-c5bf-012f-5b30-58d385a7bc34'], ['510d47e4-608d-a3d9-e040-e00a18064a99', 'Mummy portrait of a woman from Fayum, Egypt', 'http://digitalcollections.nypl.org/items/510d47e4-608d-a3d9-e040-e00a18064a99'], ['4c8918e0-c5bf-012f-86a9-58d385a7bc34', 'Mummy portrait of a youth', 'http://digitalcollections.nypl.org/items/4c8918e0-c5bf-012f-86a9-58d385a7bc34'], ['510d47e4-608f-a3d9-e040-e00a18064a99', 'Mummy portrait of a youth', 'http://digitalcollections.nypl.org/items/510d47e4-608f-a3d9-e040-e00a18064a99'], ['e4be9ce0-ff9b-012f-d2ef-58d385a7bc34', 'Boris Karloff in promotional photo for Bride of Frankenstein.', 'http://digitalcollections.nypl.org/items/e4be9ce0-ff9b-012f-d2ef-58d385a7bc34'], ['b3e7c106-ae92-2ede-e040-e00a18063cc5', 'Boris Karloff in promotional photo for Bride of Frankenstein.', 'http://digitalcollections.nypl.org/items/b3e7c106-ae92-2ede-e040-e00a18063cc5'], ['d1583080-0068-013b-a329-0242ac110003', 'The Bride', 'http://digitalcollections.nypl.org/items/d1583080-0068-013b-a329-0242ac110003'], ['d169b9c0-0068-013b-ae7b-0242ac110003', 'The Bride', 'http://digitalcollections.nypl.org/items/d169b9c0-0068-013b-ae7b-0242ac110003'], ['d17cd410-0068-013b-dc5e-0242ac110003', 'The Bride', 'http://digitalcollections.nypl.org/items/d17cd410-0068-013b-dc5e-0242ac110003'], ['d1904950-0068-013b-cc1a-0242ac110003', 'The Bride', 'http://digitalcollections.nypl.org/items/d1904950-0068-013b-cc1a-0242ac110003'], ['16b73180-ef44-013a-d770-0242ac110003', 'The Bride', 'http://digitalcollections.nypl.org/items/16b73180-ef44-013a-d770-0242ac110003'], ['d14166c0-0068-013b-5039-0242ac110003', 'The Bride', 'http://digitalcollections.nypl.org/items/d14166c0-0068-013b-5039-0242ac110003'], ['d1b69430-0068-013b-fa2d-0242ac110003', 'The Bride', 'http://digitalcollections.nypl.org/items/d1b69430-0068-013b-fa2d-0242ac110003'], ['d1c9e690-0068-013b-d469-0242ac110003', 'The Bride', 'http://digitalcollections.nypl.org/items/d1c9e690-0068-013b-d469-0242ac110003']]\n"
     ]
    }
   ],
   "source": [
    "search_list= ['woman','women','lady','ladies','girl','girls','daughter','mother','wife','miss','misses','sister','sis','widow','nurse','mom','mummy','bride']\n",
    "uuid_list=[]\n",
    "final_list = []\n",
    "for i in search_list:\n",
    "    search_info_url = \"https://api.repo.nypl.org/api/v2/items/search?q=\"+i+\"&field=title&ftype=!musicnotes|!txtfile\"\"&publicDomainOnly=true\"\n",
    "    resp_img = requests.get(search_info_url, headers=headers)\n",
    "    search_result = resp_img.json()\n",
    "    #print(search_result['nyplAPI']['response']['result'][0])\n",
    "    if search_result['nyplAPI']['response'] != []:\n",
    "        l = len(search_result['nyplAPI']['response']['result'])\n",
    "        if l!=0:\n",
    "            for j in range(l):\n",
    "                uuid = search_result['nyplAPI']['response']['result'][j]['uuid']\n",
    "                titleName = search_result['nyplAPI']['response']['result'][j]['title']\n",
    "                #typeOfResource = search_result['nyplAPI']['response']['result'][j]['typeOfResource']\n",
    "                #removed because not all uuids have a typy of resourse - data inconsistency\n",
    "                itemLink = search_result['nyplAPI']['response']['result'][j]['itemLink']\n",
    "                #imageID = search_result['nyplAPI']['response']['result'][j]['imageID']\n",
    "                #removed because not all uuids have a image id - data inconsistency - eg : text\n",
    "                final_list.append([uuid, titleName, itemLink])\n",
    "                uuid_list.append(uuid)\n",
    "print(final_list)"
   ]
  },
  {
   "cell_type": "code",
   "execution_count": 38,
   "id": "2fff958c-b9d8-4295-8ace-fa537096ae24",
   "metadata": {
    "scrolled": true
   },
   "outputs": [
    {
     "name": "stdout",
     "output_type": "stream",
     "text": [
      "                                     uuid                       titleName  \\\n",
      "0    510d47e2-f5ac-a3d9-e040-e00a18064a99  Woman ; Woman ; Woman ; Woman    \n",
      "1    0ebb0dd0-c6ce-012f-1581-58d385a7bc34  Woman ; Woman ; Woman ; Woman    \n",
      "2    843db2b0-d869-0130-3e1e-58d385a7b928                 Overseas woman.   \n",
      "3    0044c880-d869-0130-d0df-58d385a7b928                 Overseas woman.   \n",
      "4    005a14e0-d869-0130-5ecb-58d385a7b928                 Overseas woman.   \n",
      "..                                    ...                             ...   \n",
      "174  d1904950-0068-013b-cc1a-0242ac110003                       The Bride   \n",
      "175  16b73180-ef44-013a-d770-0242ac110003                       The Bride   \n",
      "176  d14166c0-0068-013b-5039-0242ac110003                       The Bride   \n",
      "177  d1b69430-0068-013b-fa2d-0242ac110003                       The Bride   \n",
      "178  d1c9e690-0068-013b-d469-0242ac110003                       The Bride   \n",
      "\n",
      "                                              itemLink  \n",
      "0    http://digitalcollections.nypl.org/items/510d4...  \n",
      "1    http://digitalcollections.nypl.org/items/0ebb0...  \n",
      "2    http://digitalcollections.nypl.org/items/843db...  \n",
      "3    http://digitalcollections.nypl.org/items/0044c...  \n",
      "4    http://digitalcollections.nypl.org/items/005a1...  \n",
      "..                                                 ...  \n",
      "174  http://digitalcollections.nypl.org/items/d1904...  \n",
      "175  http://digitalcollections.nypl.org/items/16b73...  \n",
      "176  http://digitalcollections.nypl.org/items/d1416...  \n",
      "177  http://digitalcollections.nypl.org/items/d1b69...  \n",
      "178  http://digitalcollections.nypl.org/items/d1c9e...  \n",
      "\n",
      "[179 rows x 3 columns]\n"
     ]
    }
   ],
   "source": [
    "df = pd.DataFrame(final_list,columns = ['uuid', 'titleName', 'itemLink', ])\n",
    "\n",
    "print(df)"
   ]
  },
  {
   "cell_type": "code",
   "execution_count": 39,
   "id": "b411589f-71b9-4bec-8fa3-be796f02ca32",
   "metadata": {},
   "outputs": [],
   "source": [
    "df.to_csv('secds.csv')"
   ]
  },
  {
   "cell_type": "code",
   "execution_count": 8,
   "id": "234eca3a-4dd1-425b-bdde-1f52d1454e54",
   "metadata": {},
   "outputs": [],
   "source": [
    "import os"
   ]
  },
  {
   "cell_type": "code",
   "execution_count": 59,
   "id": "f5434819-ec30-42b0-93f6-41961ee442f0",
   "metadata": {},
   "outputs": [
    {
     "name": "stdout",
     "output_type": "stream",
     "text": [
      "[['0ebb0dd0-c6ce-012f-1581-58d385a7bc34', 'Woman ; Woman ; Woman ; Woman ', 'http://digitalcollections.nypl.org/items/0ebb0dd0-c6ce-012f-1581-58d385a7bc34'], ['510d47e2-f5ac-a3d9-e040-e00a18064a99', 'Woman ; Woman ; Woman ; Woman ', 'http://digitalcollections.nypl.org/items/510d47e2-f5ac-a3d9-e040-e00a18064a99'], ['8f1b0f00-d869-0130-c3f6-58d385a7b928', 'Overseas woman.', 'http://digitalcollections.nypl.org/items/8f1b0f00-d869-0130-c3f6-58d385a7b928'], ['8f724a60-d869-0130-a0c5-58d385a7b928', 'Overseas woman.', 'http://digitalcollections.nypl.org/items/8f724a60-d869-0130-a0c5-58d385a7b928'], ['8fb33d60-d869-0130-f0ce-58d385a7b928', 'Overseas woman.', 'http://digitalcollections.nypl.org/items/8fb33d60-d869-0130-f0ce-58d385a7b928'], ['90202360-d869-0130-0959-58d385a7b928', 'Overseas woman.', 'http://digitalcollections.nypl.org/items/90202360-d869-0130-0959-58d385a7b928'], ['8fdf1140-d869-0130-ff04-58d385a7b928', 'Overseas woman.', 'http://digitalcollections.nypl.org/items/8fdf1140-d869-0130-ff04-58d385a7b928'], ['888244a0-d869-0130-4945-58d385a7b928', 'Overseas woman.', 'http://digitalcollections.nypl.org/items/888244a0-d869-0130-4945-58d385a7b928'], ['8897fd30-d869-0130-52bd-58d385a7b928', 'Overseas woman.', 'http://digitalcollections.nypl.org/items/8897fd30-d869-0130-52bd-58d385a7b928'], ['886cb280-d869-0130-16dc-58d385a7b928', 'Overseas woman.', 'http://digitalcollections.nypl.org/items/886cb280-d869-0130-16dc-58d385a7b928'], ['985c1360-c6b3-012f-4a27-3c075448cc4b', 'Women in the industry', 'http://digitalcollections.nypl.org/items/985c1360-c6b3-012f-4a27-3c075448cc4b'], ['510d47de-1a54-a3d9-e040-e00a18064a99', 'Women in the industry', 'http://digitalcollections.nypl.org/items/510d47de-1a54-a3d9-e040-e00a18064a99'], ['74e1ee20-c6b3-012f-d552-3c075448cc4b', 'The work of colored women', 'http://digitalcollections.nypl.org/items/74e1ee20-c6b3-012f-d552-3c075448cc4b'], ['510d47de-1d3a-a3d9-e040-e00a18064a99', 'The work of colored women', 'http://digitalcollections.nypl.org/items/510d47de-1d3a-a3d9-e040-e00a18064a99'], ['717620e0-c6b3-012f-a863-3c075448cc4b', 'The work of colored women', 'http://digitalcollections.nypl.org/items/717620e0-c6b3-012f-a863-3c075448cc4b'], ['c5687d50-c6ed-012f-93fb-58d385a7bc34', 'Noted Negro women', 'http://digitalcollections.nypl.org/items/c5687d50-c6ed-012f-93fb-58d385a7bc34'], ['510d47df-7550-a3d9-e040-e00a18064a99', 'Noted Negro women', 'http://digitalcollections.nypl.org/items/510d47df-7550-a3d9-e040-e00a18064a99'], ['099e9a90-c6c6-012f-5d45-58d385a7bc34', 'Nubian women at Kortie, on the Nile.', 'http://digitalcollections.nypl.org/items/099e9a90-c6c6-012f-5d45-58d385a7bc34'], ['510d47e0-0e82-a3d9-e040-e00a18064a99', 'Nubian women at Kortie, on the Nile.', 'http://digitalcollections.nypl.org/items/510d47e0-0e82-a3d9-e040-e00a18064a99'], ['9d5db9d0-c605-012f-9bdc-58d385a7bc34', 'Little women, or, Meg, Jo, Beth, and Amy', 'http://digitalcollections.nypl.org/items/9d5db9d0-c605-012f-9bdc-58d385a7bc34'], ['510d47da-3b29-a3d9-e040-e00a18064a99', 'Ladies shoes', 'http://digitalcollections.nypl.org/items/510d47da-3b29-a3d9-e040-e00a18064a99'], ['829a7210-c6b9-012f-31f5-58d385a7bc34', 'Ladies shoes', 'http://digitalcollections.nypl.org/items/829a7210-c6b9-012f-31f5-58d385a7bc34'], ['e8336430-f45f-0133-9b14-00505686a51c', 'Lady Lancing', 'http://digitalcollections.nypl.org/items/e8336430-f45f-0133-9b14-00505686a51c'], ['c27d0450-f45f-0133-40b7-00505686a51c', 'Lady Lancing', 'http://digitalcollections.nypl.org/items/c27d0450-f45f-0133-40b7-00505686a51c'], ['aa2bbfc0-f45f-0133-7f65-00505686a51c', 'Lady Lancing', 'http://digitalcollections.nypl.org/items/aa2bbfc0-f45f-0133-7f65-00505686a51c'], ['d9ce87f0-f45f-0133-1ded-00505686a51c', 'Lady Lancing', 'http://digitalcollections.nypl.org/items/d9ce87f0-f45f-0133-1ded-00505686a51c'], ['24ca07c0-c606-012f-fd5c-58d385a7bc34', \"Angelica's Ladies Library\", 'http://digitalcollections.nypl.org/items/24ca07c0-c606-012f-fd5c-58d385a7bc34'], ['510d47e0-be9e-a3d9-e040-e00a18064a99', \"Angelica's Ladies Library\", 'http://digitalcollections.nypl.org/items/510d47e0-be9e-a3d9-e040-e00a18064a99'], ['510d47da-3b2b-a3d9-e040-e00a18064a99', \"Ladies' dress shoes of the nineteenth century\", 'http://digitalcollections.nypl.org/items/510d47da-3b2b-a3d9-e040-e00a18064a99'], ['18b91320-004e-0130-d866-58d385a7bc34', \"Ladies' dress shoes of the nineteenth century\", 'http://digitalcollections.nypl.org/items/18b91320-004e-0130-d866-58d385a7bc34'], ['829a7210-c6b9-012f-31f5-58d385a7bc34', 'Ladies shoes', 'http://digitalcollections.nypl.org/items/829a7210-c6b9-012f-31f5-58d385a7bc34'], ['510d47da-3b29-a3d9-e040-e00a18064a99', 'Ladies shoes', 'http://digitalcollections.nypl.org/items/510d47da-3b29-a3d9-e040-e00a18064a99'], ['d9ce87f0-f45f-0133-1ded-00505686a51c', 'Lady Lancing', 'http://digitalcollections.nypl.org/items/d9ce87f0-f45f-0133-1ded-00505686a51c'], ['aa2bbfc0-f45f-0133-7f65-00505686a51c', 'Lady Lancing', 'http://digitalcollections.nypl.org/items/aa2bbfc0-f45f-0133-7f65-00505686a51c'], ['e8336430-f45f-0133-9b14-00505686a51c', 'Lady Lancing', 'http://digitalcollections.nypl.org/items/e8336430-f45f-0133-9b14-00505686a51c'], ['c27d0450-f45f-0133-40b7-00505686a51c', 'Lady Lancing', 'http://digitalcollections.nypl.org/items/c27d0450-f45f-0133-40b7-00505686a51c'], ['510d47da-3b2b-a3d9-e040-e00a18064a99', \"Ladies' dress shoes of the nineteenth century\", 'http://digitalcollections.nypl.org/items/510d47da-3b2b-a3d9-e040-e00a18064a99'], ['18b91320-004e-0130-d866-58d385a7bc34', \"Ladies' dress shoes of the nineteenth century\", 'http://digitalcollections.nypl.org/items/18b91320-004e-0130-d866-58d385a7bc34'], ['24ca07c0-c606-012f-fd5c-58d385a7bc34', \"Angelica's Ladies Library\", 'http://digitalcollections.nypl.org/items/24ca07c0-c606-012f-fd5c-58d385a7bc34'], ['510d47e0-be9e-a3d9-e040-e00a18064a99', \"Angelica's Ladies Library\", 'http://digitalcollections.nypl.org/items/510d47e0-be9e-a3d9-e040-e00a18064a99'], ['0f36e260-c593-012f-65e8-58d385a7bc34', 'Girls, girls, beautiful girls', 'http://digitalcollections.nypl.org/items/0f36e260-c593-012f-65e8-58d385a7bc34'], ['510d47df-f113-a3d9-e040-e00a18064a99', 'Girls, girls, beautiful girls', 'http://digitalcollections.nypl.org/items/510d47df-f113-a3d9-e040-e00a18064a99'], ['76763cbd-15e7-3926-e040-e00a18061826', 'Girls, girls, beautiful girls', 'http://digitalcollections.nypl.org/items/76763cbd-15e7-3926-e040-e00a18061826'], ['76763cbd-15e8-3926-e040-e00a18061826', 'Girls, girls, beautiful girls', 'http://digitalcollections.nypl.org/items/76763cbd-15e8-3926-e040-e00a18061826'], ['76763cbd-15e9-3926-e040-e00a18061826', 'Girls, girls, beautiful girls', 'http://digitalcollections.nypl.org/items/76763cbd-15e9-3926-e040-e00a18061826'], ['8c738f45-e530-75f7-e040-e00a18061204', 'The a la girl', 'http://digitalcollections.nypl.org/items/8c738f45-e530-75f7-e040-e00a18061204'], ['8c738f45-e531-75f7-e040-e00a18061204', 'The a la girl', 'http://digitalcollections.nypl.org/items/8c738f45-e531-75f7-e040-e00a18061204'], ['8c738f45-e52f-75f7-e040-e00a18061204', 'The a la girl', 'http://digitalcollections.nypl.org/items/8c738f45-e52f-75f7-e040-e00a18061204'], ['8c738f45-e528-75f7-e040-e00a18061204', 'The a la girl', 'http://digitalcollections.nypl.org/items/8c738f45-e528-75f7-e040-e00a18061204'], ['8c738f45-e529-75f7-e040-e00a18061204', 'The a la girl', 'http://digitalcollections.nypl.org/items/8c738f45-e529-75f7-e040-e00a18061204'], ['76763cbd-15e7-3926-e040-e00a18061826', 'Girls, girls, beautiful girls', 'http://digitalcollections.nypl.org/items/76763cbd-15e7-3926-e040-e00a18061826'], ['76763cbd-15e8-3926-e040-e00a18061826', 'Girls, girls, beautiful girls', 'http://digitalcollections.nypl.org/items/76763cbd-15e8-3926-e040-e00a18061826'], ['76763cbd-15e9-3926-e040-e00a18061826', 'Girls, girls, beautiful girls', 'http://digitalcollections.nypl.org/items/76763cbd-15e9-3926-e040-e00a18061826'], ['0f36e260-c593-012f-65e8-58d385a7bc34', 'Girls, girls, beautiful girls', 'http://digitalcollections.nypl.org/items/0f36e260-c593-012f-65e8-58d385a7bc34'], ['510d47df-f113-a3d9-e040-e00a18064a99', 'Girls, girls, beautiful girls', 'http://digitalcollections.nypl.org/items/510d47df-f113-a3d9-e040-e00a18064a99'], ['8c738f45-e528-75f7-e040-e00a18061204', 'The a la girl', 'http://digitalcollections.nypl.org/items/8c738f45-e528-75f7-e040-e00a18061204'], ['8c738f45-e529-75f7-e040-e00a18061204', 'The a la girl', 'http://digitalcollections.nypl.org/items/8c738f45-e529-75f7-e040-e00a18061204'], ['8c738f45-e52d-75f7-e040-e00a18061204', 'The a la girl', 'http://digitalcollections.nypl.org/items/8c738f45-e52d-75f7-e040-e00a18061204'], ['8c738f45-e52e-75f7-e040-e00a18061204', 'The a la girl', 'http://digitalcollections.nypl.org/items/8c738f45-e52e-75f7-e040-e00a18061204'], ['8c738f45-e530-75f7-e040-e00a18061204', 'The a la girl', 'http://digitalcollections.nypl.org/items/8c738f45-e530-75f7-e040-e00a18061204'], ['510d47df-9bcd-a3d9-e040-e00a18064a99', \"A slaveholder's daughter\", 'http://digitalcollections.nypl.org/items/510d47df-9bcd-a3d9-e040-e00a18064a99'], ['45e63c40-c622-012f-fc77-58d385a7bc34', \"A slaveholder's daughter\", 'http://digitalcollections.nypl.org/items/45e63c40-c622-012f-fc77-58d385a7bc34'], ['459aa2f0-c622-012f-6cbd-58d385a7bc34', \"A slaveholder's daughter\", 'http://digitalcollections.nypl.org/items/459aa2f0-c622-012f-6cbd-58d385a7bc34'], ['f769cfc0-382c-0131-292d-58d385a7bbd0', 'Visions of the daughters of Albion ...', 'http://digitalcollections.nypl.org/items/f769cfc0-382c-0131-292d-58d385a7bbd0'], ['f77f9ef0-382c-0131-4e2b-58d385a7bbd0', 'Visions of the daughters of Albion ...', 'http://digitalcollections.nypl.org/items/f77f9ef0-382c-0131-4e2b-58d385a7bbd0'], ['f79579c0-382c-0131-b836-58d385a7bbd0', 'Visions of the daughters of Albion ...', 'http://digitalcollections.nypl.org/items/f79579c0-382c-0131-b836-58d385a7bbd0'], ['f7ab3280-382c-0131-3989-58d385a7bbd0', 'Visions of the daughters of Albion ...', 'http://digitalcollections.nypl.org/items/f7ab3280-382c-0131-3989-58d385a7bbd0'], ['f7c0e920-382c-0131-a2b6-58d385a7bbd0', 'Visions of the daughters of Albion ...', 'http://digitalcollections.nypl.org/items/f7c0e920-382c-0131-a2b6-58d385a7bbd0'], ['f6e65990-382c-0131-9518-58d385a7bbd0', 'Visions of the daughters of Albion ...', 'http://digitalcollections.nypl.org/items/f6e65990-382c-0131-9518-58d385a7bbd0'], ['f6fcc3e0-382c-0131-f1cd-58d385a7bbd0', 'Visions of the daughters of Albion ...', 'http://digitalcollections.nypl.org/items/f6fcc3e0-382c-0131-f1cd-58d385a7bbd0'], ['6afce12b-c829-8906-e040-e00a1806667c', \"Mother Hubbard's dog.\", 'http://digitalcollections.nypl.org/items/6afce12b-c829-8906-e040-e00a1806667c'], ['99c98860-c5bc-012f-7bd6-58d385a7bc34', \"Mother Hubbard's dog.\", 'http://digitalcollections.nypl.org/items/99c98860-c5bc-012f-7bd6-58d385a7bc34'], ['0fa947e0-c5bc-012f-0314-58d385a7bc34', 'My mother, and your mother, went over the way.', 'http://digitalcollections.nypl.org/items/0fa947e0-c5bc-012f-0314-58d385a7bc34'], ['68dc0359-7815-7a41-e040-e00a1806442f', 'My mother, and your mother, went over the way.', 'http://digitalcollections.nypl.org/items/68dc0359-7815-7a41-e040-e00a1806442f'], ['9a1c8b50-c5bc-012f-01ed-58d385a7bc34', \"Mother Hubbard's dog reading a newspaper.\", 'http://digitalcollections.nypl.org/items/9a1c8b50-c5bc-012f-01ed-58d385a7bc34'], ['6afce12b-c82a-8906-e040-e00a1806667c', \"Mother Hubbard's dog reading a newspaper.\", 'http://digitalcollections.nypl.org/items/6afce12b-c82a-8906-e040-e00a1806667c'], ['4d17e1b0-c618-012f-08db-58d385a7bc34', 'Mother and mammy.', 'http://digitalcollections.nypl.org/items/4d17e1b0-c618-012f-08db-58d385a7bc34'], ['510d47df-b766-a3d9-e040-e00a18064a99', 'Mother and mammy.', 'http://digitalcollections.nypl.org/items/510d47df-b766-a3d9-e040-e00a18064a99'], ['b0b75680-1654-0136-7910-656c96f6a1c0', 'Geological map of the Mother Lode region ', 'http://digitalcollections.nypl.org/items/b0b75680-1654-0136-7910-656c96f6a1c0'], ['61e2a1a0-24bf-0136-05b8-2d95d781d186', 'Geological map of the Mother Lode region ', 'http://digitalcollections.nypl.org/items/61e2a1a0-24bf-0136-05b8-2d95d781d186'], ['c82a8e70-1394-0133-6e75-58d385a7bbd0', 'Irene Castle in The amateur wife', 'http://digitalcollections.nypl.org/items/c82a8e70-1394-0133-6e75-58d385a7bbd0'], ['510d47e3-8812-a3d9-e040-e00a18064a99', 'Irene Castle in The amateur wife', 'http://digitalcollections.nypl.org/items/510d47e3-8812-a3d9-e040-e00a18064a99'], ['6d0c3810-87f4-0133-455b-00505686d14e', 'Husband and wife rocks', 'http://digitalcollections.nypl.org/items/6d0c3810-87f4-0133-455b-00505686d14e'], ['bf5957c0-2e9c-0135-1283-0fb9b880953f', 'Husband and wife rocks', 'http://digitalcollections.nypl.org/items/bf5957c0-2e9c-0135-1283-0fb9b880953f'], ['bf438520-2e9c-0135-da94-5d6bbda59d87', 'Husband and wife rocks', 'http://digitalcollections.nypl.org/items/bf438520-2e9c-0135-da94-5d6bbda59d87'], ['a2972580-f813-0136-6168-17683ca52d9b', 'Peter Motzfeldt and wife', 'http://digitalcollections.nypl.org/items/a2972580-f813-0136-6168-17683ca52d9b'], ['0a534dc0-f819-0136-c625-0fbd491932e5', 'Peter Motzfeldt and wife', 'http://digitalcollections.nypl.org/items/0a534dc0-f819-0136-c625-0fbd491932e5'], ['6cc0e4e0-087e-0133-7c72-58d385a7bbd0', 'The widow and the wife', 'http://digitalcollections.nypl.org/items/6cc0e4e0-087e-0133-7c72-58d385a7bbd0'], ['6cb73aa0-087e-0133-9b0f-58d385a7bbd0', 'The widow and the wife', 'http://digitalcollections.nypl.org/items/6cb73aa0-087e-0133-9b0f-58d385a7bbd0'], ['6d6670e0-087e-0133-60e6-58d385a7bbd0', 'The widow and the wife', 'http://digitalcollections.nypl.org/items/6d6670e0-087e-0133-60e6-58d385a7bbd0'], ['409cb660-c6cf-012f-f4e7-58d385a7bc34', 'Daughters of the Eve and Dawn\"; Miss Delma Holland; Miss Bell Watkins; Miss Ethel Moses; Miss C. Washington.', 'http://digitalcollections.nypl.org/items/409cb660-c6cf-012f-f4e7-58d385a7bc34'], ['510d47df-a170-a3d9-e040-e00a18064a99', 'Daughters of the Eve and Dawn\"; Miss Delma Holland; Miss Bell Watkins; Miss Ethel Moses; Miss C. Washington.', 'http://digitalcollections.nypl.org/items/510d47df-a170-a3d9-e040-e00a18064a99'], ['4bc3bbf0-c8b1-0131-88f9-58d385a7bbd0', 'Letter: To Miss -- From Miss – -', 'http://digitalcollections.nypl.org/items/4bc3bbf0-c8b1-0131-88f9-58d385a7bbd0'], ['85c511d0-c8b1-0131-bf7e-58d385a7bbd0', 'Letter: To Miss -- From Miss – -', 'http://digitalcollections.nypl.org/items/85c511d0-c8b1-0131-bf7e-58d385a7bbd0'], ['5bad6b50-c592-012f-fb87-58d385a7bc34', 'Miss Modesty', 'http://digitalcollections.nypl.org/items/5bad6b50-c592-012f-fb87-58d385a7bc34'], ['510d47de-17f5-a3d9-e040-e00a18064a99', 'Miss Modesty', 'http://digitalcollections.nypl.org/items/510d47de-17f5-a3d9-e040-e00a18064a99'], ['7222e9d8-4a30-e042-e040-e00a18060889', 'Miss Modesty', 'http://digitalcollections.nypl.org/items/7222e9d8-4a30-e042-e040-e00a18060889'], ['7222e9d8-4a31-e042-e040-e00a18060889', 'Miss Modesty', 'http://digitalcollections.nypl.org/items/7222e9d8-4a31-e042-e040-e00a18060889'], ['7222e9d8-4a33-e042-e040-e00a18060889', 'Miss Modesty', 'http://digitalcollections.nypl.org/items/7222e9d8-4a33-e042-e040-e00a18060889'], ['7222e9d8-4a34-e042-e040-e00a18060889', 'Miss Modesty', 'http://digitalcollections.nypl.org/items/7222e9d8-4a34-e042-e040-e00a18060889'], ['510d47df-a170-a3d9-e040-e00a18064a99', 'Daughters of the Eve and Dawn\"; Miss Delma Holland; Miss Bell Watkins; Miss Ethel Moses; Miss C. Washington.', 'http://digitalcollections.nypl.org/items/510d47df-a170-a3d9-e040-e00a18064a99'], ['409cb660-c6cf-012f-f4e7-58d385a7bc34', 'Daughters of the Eve and Dawn\"; Miss Delma Holland; Miss Bell Watkins; Miss Ethel Moses; Miss C. Washington.', 'http://digitalcollections.nypl.org/items/409cb660-c6cf-012f-f4e7-58d385a7bc34'], ['4bc3bbf0-c8b1-0131-88f9-58d385a7bbd0', 'Letter: To Miss -- From Miss – -', 'http://digitalcollections.nypl.org/items/4bc3bbf0-c8b1-0131-88f9-58d385a7bbd0'], ['85c511d0-c8b1-0131-bf7e-58d385a7bbd0', 'Letter: To Miss -- From Miss – -', 'http://digitalcollections.nypl.org/items/85c511d0-c8b1-0131-bf7e-58d385a7bbd0'], ['510d47de-17f5-a3d9-e040-e00a18064a99', 'Miss Modesty', 'http://digitalcollections.nypl.org/items/510d47de-17f5-a3d9-e040-e00a18064a99'], ['7222e9d8-4a30-e042-e040-e00a18060889', 'Miss Modesty', 'http://digitalcollections.nypl.org/items/7222e9d8-4a30-e042-e040-e00a18060889'], ['7222e9d8-4a31-e042-e040-e00a18060889', 'Miss Modesty', 'http://digitalcollections.nypl.org/items/7222e9d8-4a31-e042-e040-e00a18060889'], ['7222e9d8-4a33-e042-e040-e00a18060889', 'Miss Modesty', 'http://digitalcollections.nypl.org/items/7222e9d8-4a33-e042-e040-e00a18060889'], ['7222e9d8-4a34-e042-e040-e00a18060889', 'Miss Modesty', 'http://digitalcollections.nypl.org/items/7222e9d8-4a34-e042-e040-e00a18060889'], ['7222e9d8-4a32-e042-e040-e00a18060889', 'Miss Modesty', 'http://digitalcollections.nypl.org/items/7222e9d8-4a32-e042-e040-e00a18060889'], ['6ad45298-a0ab-e375-e040-e00a1806159b', 'Little brother and little sister', 'http://digitalcollections.nypl.org/items/6ad45298-a0ab-e375-e040-e00a1806159b'], ['8c5bad70-c5ba-012f-728f-58d385a7bc34', 'Little brother and little sister', 'http://digitalcollections.nypl.org/items/8c5bad70-c5ba-012f-728f-58d385a7bc34'], ['8da13130-c5ba-012f-6ea3-58d385a7bc34', 'Brüderchen und Schwesterchen.', 'http://digitalcollections.nypl.org/items/8da13130-c5ba-012f-6ea3-58d385a7bc34'], ['6ad45298-a0ae-e375-e040-e00a1806159b', 'Brüderchen und Schwesterchen.', 'http://digitalcollections.nypl.org/items/6ad45298-a0ae-e375-e040-e00a1806159b'], ['95d7b340-f819-0136-87c2-5752fcf3cac1', 'Sophy and her sister Marea', 'http://digitalcollections.nypl.org/items/95d7b340-f819-0136-87c2-5752fcf3cac1'], ['588320f0-f815-0136-ef67-39fe9262825f', 'Sophy and her sister Marea', 'http://digitalcollections.nypl.org/items/588320f0-f815-0136-ef67-39fe9262825f'], ['b88fb790-c606-012f-2e23-58d385a7bc34', 'Lord Buckhorst and sister.', 'http://digitalcollections.nypl.org/items/b88fb790-c606-012f-2e23-58d385a7bc34'], ['903b7198-457e-3fd2-e040-e00a18065e61', 'Lord Buckhorst and sister.', 'http://digitalcollections.nypl.org/items/903b7198-457e-3fd2-e040-e00a18065e61'], ['b12904ef-a832-84a6-e040-e00a18062103', '3 Sisters Restaurant', 'http://digitalcollections.nypl.org/items/b12904ef-a832-84a6-e040-e00a18062103'], ['b64ff620-c550-012f-3506-58d385a7bc34', '3 Sisters Restaurant', 'http://digitalcollections.nypl.org/items/b64ff620-c550-012f-3506-58d385a7bc34'], ['0d44b800-b6db-0132-ee41-58d385a7bbd0', 'Mde. Hilligsberg in the ballet of Ken-si & Tao, performed for her Benefit the 14th of May 1801', 'http://digitalcollections.nypl.org/items/0d44b800-b6db-0132-ee41-58d385a7bbd0'], ['e9d891c0-b6da-0132-4639-58d385a7bbd0', 'Mde. Hilligsberg in the ballet of Ken-si & Tao, performed for her Benefit the 14th of May 1801', 'http://digitalcollections.nypl.org/items/e9d891c0-b6da-0132-4639-58d385a7bbd0'], ['6177cc00-18c3-0131-1291-58d385a7bbd0', 'Mde. Hilligsberg in the ballet of Ken-si & Tao, performed for her Benefit the 14th of May 1801', 'http://digitalcollections.nypl.org/items/6177cc00-18c3-0131-1291-58d385a7bbd0'], ['5c995760-18c3-0131-b909-58d385a7bbd0', 'Mde. Hilligsberg in the ballet of Ken-si & Tao, performed for her Benefit the 14th of May 1801', 'http://digitalcollections.nypl.org/items/5c995760-18c3-0131-b909-58d385a7bbd0'], ['da0ab410-c58f-012f-a670-58d385a7bc34', 'Um-skit-a-rat-trap-si-si-do!', 'http://digitalcollections.nypl.org/items/da0ab410-c58f-012f-a670-58d385a7bc34'], ['510d47de-0716-a3d9-e040-e00a18064a99', 'Um-skit-a-rat-trap-si-si-do!', 'http://digitalcollections.nypl.org/items/510d47de-0716-a3d9-e040-e00a18064a99'], ['69686d20-54cb-c262-e040-e00a18064252', 'Um-skit-a-rat-trap-si-si-do!', 'http://digitalcollections.nypl.org/items/69686d20-54cb-c262-e040-e00a18064252'], ['69686d20-54cc-c262-e040-e00a18064252', 'Um-skit-a-rat-trap-si-si-do!', 'http://digitalcollections.nypl.org/items/69686d20-54cc-c262-e040-e00a18064252'], ['69686d20-54c9-c262-e040-e00a18064252', 'Um-skit-a-rat-trap-si-si-do!', 'http://digitalcollections.nypl.org/items/69686d20-54c9-c262-e040-e00a18064252'], ['69686d20-54ca-c262-e040-e00a18064252', 'Um-skit-a-rat-trap-si-si-do!', 'http://digitalcollections.nypl.org/items/69686d20-54ca-c262-e040-e00a18064252'], ['510d47e2-cf57-a3d9-e040-e00a18064a99', 'The fascinating widow', 'http://digitalcollections.nypl.org/items/510d47e2-cf57-a3d9-e040-e00a18064a99'], ['156f79c0-c642-012f-cd86-58d385a7bc34', 'The fascinating widow', 'http://digitalcollections.nypl.org/items/156f79c0-c642-012f-cd86-58d385a7bc34'], ['510d47e2-cf58-a3d9-e040-e00a18064a99', 'The fascinating widow', 'http://digitalcollections.nypl.org/items/510d47e2-cf58-a3d9-e040-e00a18064a99'], ['510d47e2-cf59-a3d9-e040-e00a18064a99', 'The fascinating widow', 'http://digitalcollections.nypl.org/items/510d47e2-cf59-a3d9-e040-e00a18064a99'], ['510d47e2-cf5e-a3d9-e040-e00a18064a99', 'The fascinating widow', 'http://digitalcollections.nypl.org/items/510d47e2-cf5e-a3d9-e040-e00a18064a99'], ['510d47e2-cf5d-a3d9-e040-e00a18064a99', 'The fascinating widow', 'http://digitalcollections.nypl.org/items/510d47e2-cf5d-a3d9-e040-e00a18064a99'], ['510d47e2-cf5b-a3d9-e040-e00a18064a99', 'The fascinating widow', 'http://digitalcollections.nypl.org/items/510d47e2-cf5b-a3d9-e040-e00a18064a99'], ['510d47e2-cf5c-a3d9-e040-e00a18064a99', 'The fascinating widow', 'http://digitalcollections.nypl.org/items/510d47e2-cf5c-a3d9-e040-e00a18064a99'], ['510d47e2-cf5a-a3d9-e040-e00a18064a99', 'The fascinating widow', 'http://digitalcollections.nypl.org/items/510d47e2-cf5a-a3d9-e040-e00a18064a99'], ['6cc0e4e0-087e-0133-7c72-58d385a7bbd0', 'The widow and the wife', 'http://digitalcollections.nypl.org/items/6cc0e4e0-087e-0133-7c72-58d385a7bbd0'], ['d383cac0-84c9-0133-7332-00505686d14e', 'One Hundred Poems Explained by the Nurse', 'http://digitalcollections.nypl.org/items/d383cac0-84c9-0133-7332-00505686d14e'], ['35afe4c0-2f71-0135-34a9-5543d9af61a8', 'One Hundred Poems Explained by the Nurse', 'http://digitalcollections.nypl.org/items/35afe4c0-2f71-0135-34a9-5543d9af61a8'], ['4b9eda80-2f71-0135-e2d8-05b5f33fc3b4', 'One Hundred Poems Explained by the Nurse', 'http://digitalcollections.nypl.org/items/4b9eda80-2f71-0135-e2d8-05b5f33fc3b4'], ['d53d2330-84c9-0133-51cb-00505686d14e', 'One Hundred Poems Explained by the Nurse', 'http://digitalcollections.nypl.org/items/d53d2330-84c9-0133-51cb-00505686d14e'], ['a7ded160-c6db-012f-adc8-3c075448cc4b', \"Nurses' Training School; A class of nurses at study; Frederick Douglass Hospital, Philadelphia, Pa.\", 'http://digitalcollections.nypl.org/items/a7ded160-c6db-012f-adc8-3c075448cc4b'], ['510d47de-4d2c-a3d9-e040-e00a18064a99', \"Nurses' Training School; A class of nurses at study; Frederick Douglass Hospital, Philadelphia, Pa.\", 'http://digitalcollections.nypl.org/items/510d47de-4d2c-a3d9-e040-e00a18064a99'], ['6e2373a1-f75d-dea7-e040-e00a18061b64', 'The first convention of the National Association of Colored Graduate Nurses, Boston, 1909', 'http://digitalcollections.nypl.org/items/6e2373a1-f75d-dea7-e040-e00a18061b64'], ['9d86cda0-c6c3-012f-6270-3c075448cc4b', 'The first convention of the National Association of Colored Graduate Nurses, Boston, 1909', 'http://digitalcollections.nypl.org/items/9d86cda0-c6c3-012f-6270-3c075448cc4b'], ['510d47d9-c880-a3d9-e040-e00a18064a99', 'Young Nurse', 'http://digitalcollections.nypl.org/items/510d47d9-c880-a3d9-e040-e00a18064a99'], ['876777b0-c6ce-012f-7a25-58d385a7bc34', 'Young Nurse', 'http://digitalcollections.nypl.org/items/876777b0-c6ce-012f-7a25-58d385a7bc34'], ['080d32c0-0b11-0134-d18f-00505686a51c', \"Mom Robbins' Restaurant\", 'http://digitalcollections.nypl.org/items/080d32c0-0b11-0134-d18f-00505686a51c'], ['07256c60-0b11-0134-1d59-00505686a51c', \"Mom Robbins' Restaurant\", 'http://digitalcollections.nypl.org/items/07256c60-0b11-0134-1d59-00505686a51c'], ['08af1c00-0b11-0134-510e-00505686a51c', \"Mom Robbins' Restaurant\", 'http://digitalcollections.nypl.org/items/08af1c00-0b11-0134-510e-00505686a51c'], ['064e9fd0-0b31-0134-3a9f-00505686a51c', \"Frauline Alford in Mom Robbins' Restaurant\", 'http://digitalcollections.nypl.org/items/064e9fd0-0b31-0134-3a9f-00505686a51c'], ['05b06e70-0b31-0134-bf72-00505686a51c', \"Frauline Alford in Mom Robbins' Restaurant\", 'http://digitalcollections.nypl.org/items/05b06e70-0b31-0134-bf72-00505686a51c'], ['50369360-0b2e-0134-031b-00505686a51c', \"Frauline Alford in Mom Robbins' Restaurant\", 'http://digitalcollections.nypl.org/items/50369360-0b2e-0134-031b-00505686a51c'], ['3944c260-0b2f-0134-2c05-00505686a51c', 'Alberta Perkins, who portrays Mom Robbins', 'http://digitalcollections.nypl.org/items/3944c260-0b2f-0134-2c05-00505686a51c'], ['0a8cf9c0-0b31-0134-2a0c-00505686a51c', 'Alberta Perkins, who portrays Mom Robbins', 'http://digitalcollections.nypl.org/items/0a8cf9c0-0b31-0134-2a0c-00505686a51c'], ['0b414770-0b31-0134-f9f0-00505686a51c', 'Alberta Perkins, who portrays Mom Robbins', 'http://digitalcollections.nypl.org/items/0b414770-0b31-0134-f9f0-00505686a51c'], ['510d47e4-19c3-a3d9-e040-e00a18064a99', 'A mummy factory', 'http://digitalcollections.nypl.org/items/510d47e4-19c3-a3d9-e040-e00a18064a99'], ['8ad53a30-c5be-012f-5d59-58d385a7bc34', 'A mummy factory', 'http://digitalcollections.nypl.org/items/8ad53a30-c5be-012f-5d59-58d385a7bc34'], ['4cde5170-c5bf-012f-56e2-58d385a7bc34', 'Mummy portrait of a woman', 'http://digitalcollections.nypl.org/items/4cde5170-c5bf-012f-56e2-58d385a7bc34'], ['510d47e4-6090-a3d9-e040-e00a18064a99', 'Mummy portrait of a woman', 'http://digitalcollections.nypl.org/items/510d47e4-6090-a3d9-e040-e00a18064a99'], ['8b2b33e0-c5be-012f-4c25-58d385a7bc34', 'Mummified animals', 'http://digitalcollections.nypl.org/items/8b2b33e0-c5be-012f-4c25-58d385a7bc34'], ['510d47e4-19c4-a3d9-e040-e00a18064a99', 'Mummified animals', 'http://digitalcollections.nypl.org/items/510d47e4-19c4-a3d9-e040-e00a18064a99'], ['4be6d470-c5bf-012f-5b30-58d385a7bc34', 'Mummy portrait of a woman from Fayum, Egypt', 'http://digitalcollections.nypl.org/items/4be6d470-c5bf-012f-5b30-58d385a7bc34'], ['510d47e4-608d-a3d9-e040-e00a18064a99', 'Mummy portrait of a woman from Fayum, Egypt', 'http://digitalcollections.nypl.org/items/510d47e4-608d-a3d9-e040-e00a18064a99'], ['4c8918e0-c5bf-012f-86a9-58d385a7bc34', 'Mummy portrait of a youth', 'http://digitalcollections.nypl.org/items/4c8918e0-c5bf-012f-86a9-58d385a7bc34'], ['510d47e4-608f-a3d9-e040-e00a18064a99', 'Mummy portrait of a youth', 'http://digitalcollections.nypl.org/items/510d47e4-608f-a3d9-e040-e00a18064a99'], ['e4be9ce0-ff9b-012f-d2ef-58d385a7bc34', 'Boris Karloff in promotional photo for Bride of Frankenstein.', 'http://digitalcollections.nypl.org/items/e4be9ce0-ff9b-012f-d2ef-58d385a7bc34'], ['b3e7c106-ae92-2ede-e040-e00a18063cc5', 'Boris Karloff in promotional photo for Bride of Frankenstein.', 'http://digitalcollections.nypl.org/items/b3e7c106-ae92-2ede-e040-e00a18063cc5'], ['d1583080-0068-013b-a329-0242ac110003', 'The Bride', 'http://digitalcollections.nypl.org/items/d1583080-0068-013b-a329-0242ac110003'], ['d169b9c0-0068-013b-ae7b-0242ac110003', 'The Bride', 'http://digitalcollections.nypl.org/items/d169b9c0-0068-013b-ae7b-0242ac110003'], ['d17cd410-0068-013b-dc5e-0242ac110003', 'The Bride', 'http://digitalcollections.nypl.org/items/d17cd410-0068-013b-dc5e-0242ac110003'], ['d1904950-0068-013b-cc1a-0242ac110003', 'The Bride', 'http://digitalcollections.nypl.org/items/d1904950-0068-013b-cc1a-0242ac110003'], ['16b73180-ef44-013a-d770-0242ac110003', 'The Bride', 'http://digitalcollections.nypl.org/items/16b73180-ef44-013a-d770-0242ac110003'], ['d14166c0-0068-013b-5039-0242ac110003', 'The Bride', 'http://digitalcollections.nypl.org/items/d14166c0-0068-013b-5039-0242ac110003'], ['d1a46460-0068-013b-89f1-0242ac110003', 'The Bride', 'http://digitalcollections.nypl.org/items/d1a46460-0068-013b-89f1-0242ac110003'], ['d1b69430-0068-013b-fa2d-0242ac110003', 'The Bride', 'http://digitalcollections.nypl.org/items/d1b69430-0068-013b-fa2d-0242ac110003']]\n"
     ]
    }
   ],
   "source": [
    "search_list= ['woman','women','lady','ladies','girl','girls','daughter','mother','wife','miss','misses','sister','sis','widow','nurse','mom','mummy','bride']\n",
    "uuid_list=[]\n",
    "final_list = []\n",
    "for i in search_list:\n",
    "    search_info_url = \"https://api.repo.nypl.org/api/v2/items/search?q=\"+i+\"&field=title&ftype=!musicnotes&typeofresource=!plain_text\"\"&publicDomainOnly=true\"\n",
    "    resp_img = requests.get(search_info_url, headers=headers)\n",
    "    search_result = resp_img.json()\n",
    "    #print(search_result['nyplAPI']['response']['result'][0])\n",
    "    if search_result['nyplAPI']['response'] != []:\n",
    "        l = len(search_result['nyplAPI']['response']['result'])\n",
    "        if l!=0:\n",
    "            for j in range(l):\n",
    "                uuid = search_result['nyplAPI']['response']['result'][j]['uuid']\n",
    "                titleName = search_result['nyplAPI']['response']['result'][j]['title']\n",
    "                #typeOfResource = search_result['nyplAPI']['response']['result'][j]['typeOfResource']\n",
    "                #removed because not all uuids have a typy of resourse - data inconsistency\n",
    "                itemLink = search_result['nyplAPI']['response']['result'][j]['itemLink']\n",
    "                #imageID = search_result['nyplAPI']['response']['result'][j]['imageID']\n",
    "                #removed because not all uuids have a image id - data inconsistency - eg : text\n",
    "                final_list.append([uuid, titleName, itemLink])\n",
    "                uuid_list.append(uuid)\n",
    "print(final_list)"
   ]
  },
  {
   "cell_type": "code",
   "execution_count": null,
   "id": "cd32ef89",
   "metadata": {},
   "outputs": [],
   "source": []
  },
  {
   "cell_type": "code",
   "execution_count": 51,
   "id": "ba9f8372-e0c3-4c2d-a3f9-1bad7d912c5d",
   "metadata": {},
   "outputs": [],
   "source": [
    "from bs4 import BeautifulSoup"
   ]
  },
  {
   "cell_type": "code",
   "execution_count": 60,
   "id": "3092ccfc-2d3a-4593-807f-39e3f0af6c15",
   "metadata": {
    "scrolled": true
   },
   "outputs": [
    {
     "name": "stdout",
     "output_type": "stream",
     "text": [
      "https://images.nypl.org/index.php?id=1564842&t=w\n",
      "https://images.nypl.org/index.php?id=57735225&t=b\n",
      "https://images.nypl.org/index.php?id=1634167&t=b\n",
      "https://images.nypl.org/index.php?id=1634397&t=b\n",
      "https://images.nypl.org/index.php?id=1634889&t=b\n",
      "https://images.nypl.org/index.php?id=57726259&t=b\n",
      "https://images.nypl.org/index.php?id=58037591&t=b\n",
      "https://images.nypl.org/index.php?id=5914153&t=b\n",
      "https://images.nypl.org/index.php?id=57735783&t=b\n",
      "https://images.nypl.org/index.php?id=58221028&t=b\n",
      "https://images.nypl.org/index.php?id=57563146&t=b\n",
      "https://images.nypl.org/index.php?id=5073622&t=b\n",
      "https://images.nypl.org/index.php?id=58040065&t=b\n",
      "https://images.nypl.org/index.php?id=57862079&t=b\n",
      "https://images.nypl.org/index.php?id=psnypl_art_175&t=b\n",
      "https://images.nypl.org/index.php?id=5041350&t=b\n",
      "https://images.nypl.org/index.php?id=1564832&t=b\n",
      "https://images.nypl.org/index.php?id=1564833&t=b\n",
      "https://images.nypl.org/index.php?id=1564834&t=b\n",
      "https://images.nypl.org/index.php?id=1564835&t=b\n",
      "https://images.nypl.org/index.php?id=1564836&t=b\n",
      "https://images.nypl.org/index.php?id=1564837&t=b\n",
      "https://images.nypl.org/index.php?id=1564838&t=b\n",
      "https://images.nypl.org/index.php?id=1564839&t=b\n",
      "https://images.nypl.org/index.php?id=1564840&t=b\n",
      "https://images.nypl.org/index.php?id=1564841&t=b\n"
     ]
    },
    {
     "ename": "KeyboardInterrupt",
     "evalue": "",
     "output_type": "error",
     "traceback": [
      "\u001b[1;31m---------------------------------------------------------------------------\u001b[0m",
      "\u001b[1;31mKeyboardInterrupt\u001b[0m                         Traceback (most recent call last)",
      "\u001b[1;32m~\\AppData\\Local\\Temp/ipykernel_27320/165023206.py\u001b[0m in \u001b[0;36m<module>\u001b[1;34m\u001b[0m\n\u001b[0;32m     27\u001b[0m                 \u001b[0murl\u001b[0m \u001b[1;33m=\u001b[0m \u001b[1;34m'{}{}'\u001b[0m\u001b[1;33m.\u001b[0m\u001b[0mformat\u001b[0m\u001b[1;33m(\u001b[0m\u001b[0msite\u001b[0m\u001b[1;33m,\u001b[0m \u001b[0murl\u001b[0m\u001b[1;33m)\u001b[0m\u001b[1;33m\u001b[0m\u001b[1;33m\u001b[0m\u001b[0m\n\u001b[0;32m     28\u001b[0m                 \u001b[0mprint\u001b[0m\u001b[1;33m(\u001b[0m\u001b[0murl\u001b[0m\u001b[1;33m)\u001b[0m\u001b[1;33m\u001b[0m\u001b[1;33m\u001b[0m\u001b[0m\n\u001b[1;32m---> 29\u001b[1;33m             \u001b[0mresponse\u001b[0m \u001b[1;33m=\u001b[0m \u001b[0mrequests\u001b[0m\u001b[1;33m.\u001b[0m\u001b[0mget\u001b[0m\u001b[1;33m(\u001b[0m\u001b[0murl\u001b[0m\u001b[1;33m)\u001b[0m\u001b[1;33m\u001b[0m\u001b[1;33m\u001b[0m\u001b[0m\n\u001b[0m\u001b[0;32m     30\u001b[0m             \u001b[1;31m#print(response.content)\u001b[0m\u001b[1;33m\u001b[0m\u001b[1;33m\u001b[0m\u001b[0m\n\u001b[0;32m     31\u001b[0m             \u001b[0mf\u001b[0m\u001b[1;33m.\u001b[0m\u001b[0mwrite\u001b[0m\u001b[1;33m(\u001b[0m\u001b[0mresponse\u001b[0m\u001b[1;33m.\u001b[0m\u001b[0mcontent\u001b[0m\u001b[1;33m)\u001b[0m\u001b[1;33m\u001b[0m\u001b[1;33m\u001b[0m\u001b[0m\n",
      "\u001b[1;32m~\\anaconda3\\lib\\site-packages\\requests\\api.py\u001b[0m in \u001b[0;36mget\u001b[1;34m(url, params, **kwargs)\u001b[0m\n\u001b[0;32m     73\u001b[0m     \"\"\"\n\u001b[0;32m     74\u001b[0m \u001b[1;33m\u001b[0m\u001b[0m\n\u001b[1;32m---> 75\u001b[1;33m     \u001b[1;32mreturn\u001b[0m \u001b[0mrequest\u001b[0m\u001b[1;33m(\u001b[0m\u001b[1;34m'get'\u001b[0m\u001b[1;33m,\u001b[0m \u001b[0murl\u001b[0m\u001b[1;33m,\u001b[0m \u001b[0mparams\u001b[0m\u001b[1;33m=\u001b[0m\u001b[0mparams\u001b[0m\u001b[1;33m,\u001b[0m \u001b[1;33m**\u001b[0m\u001b[0mkwargs\u001b[0m\u001b[1;33m)\u001b[0m\u001b[1;33m\u001b[0m\u001b[1;33m\u001b[0m\u001b[0m\n\u001b[0m\u001b[0;32m     76\u001b[0m \u001b[1;33m\u001b[0m\u001b[0m\n\u001b[0;32m     77\u001b[0m \u001b[1;33m\u001b[0m\u001b[0m\n",
      "\u001b[1;32m~\\anaconda3\\lib\\site-packages\\requests\\api.py\u001b[0m in \u001b[0;36mrequest\u001b[1;34m(method, url, **kwargs)\u001b[0m\n\u001b[0;32m     59\u001b[0m     \u001b[1;31m# cases, and look like a memory leak in others.\u001b[0m\u001b[1;33m\u001b[0m\u001b[1;33m\u001b[0m\u001b[0m\n\u001b[0;32m     60\u001b[0m     \u001b[1;32mwith\u001b[0m \u001b[0msessions\u001b[0m\u001b[1;33m.\u001b[0m\u001b[0mSession\u001b[0m\u001b[1;33m(\u001b[0m\u001b[1;33m)\u001b[0m \u001b[1;32mas\u001b[0m \u001b[0msession\u001b[0m\u001b[1;33m:\u001b[0m\u001b[1;33m\u001b[0m\u001b[1;33m\u001b[0m\u001b[0m\n\u001b[1;32m---> 61\u001b[1;33m         \u001b[1;32mreturn\u001b[0m \u001b[0msession\u001b[0m\u001b[1;33m.\u001b[0m\u001b[0mrequest\u001b[0m\u001b[1;33m(\u001b[0m\u001b[0mmethod\u001b[0m\u001b[1;33m=\u001b[0m\u001b[0mmethod\u001b[0m\u001b[1;33m,\u001b[0m \u001b[0murl\u001b[0m\u001b[1;33m=\u001b[0m\u001b[0murl\u001b[0m\u001b[1;33m,\u001b[0m \u001b[1;33m**\u001b[0m\u001b[0mkwargs\u001b[0m\u001b[1;33m)\u001b[0m\u001b[1;33m\u001b[0m\u001b[1;33m\u001b[0m\u001b[0m\n\u001b[0m\u001b[0;32m     62\u001b[0m \u001b[1;33m\u001b[0m\u001b[0m\n\u001b[0;32m     63\u001b[0m \u001b[1;33m\u001b[0m\u001b[0m\n",
      "\u001b[1;32m~\\anaconda3\\lib\\site-packages\\requests\\sessions.py\u001b[0m in \u001b[0;36mrequest\u001b[1;34m(self, method, url, params, data, headers, cookies, files, auth, timeout, allow_redirects, proxies, hooks, stream, verify, cert, json)\u001b[0m\n\u001b[0;32m    540\u001b[0m         }\n\u001b[0;32m    541\u001b[0m         \u001b[0msend_kwargs\u001b[0m\u001b[1;33m.\u001b[0m\u001b[0mupdate\u001b[0m\u001b[1;33m(\u001b[0m\u001b[0msettings\u001b[0m\u001b[1;33m)\u001b[0m\u001b[1;33m\u001b[0m\u001b[1;33m\u001b[0m\u001b[0m\n\u001b[1;32m--> 542\u001b[1;33m         \u001b[0mresp\u001b[0m \u001b[1;33m=\u001b[0m \u001b[0mself\u001b[0m\u001b[1;33m.\u001b[0m\u001b[0msend\u001b[0m\u001b[1;33m(\u001b[0m\u001b[0mprep\u001b[0m\u001b[1;33m,\u001b[0m \u001b[1;33m**\u001b[0m\u001b[0msend_kwargs\u001b[0m\u001b[1;33m)\u001b[0m\u001b[1;33m\u001b[0m\u001b[1;33m\u001b[0m\u001b[0m\n\u001b[0m\u001b[0;32m    543\u001b[0m \u001b[1;33m\u001b[0m\u001b[0m\n\u001b[0;32m    544\u001b[0m         \u001b[1;32mreturn\u001b[0m \u001b[0mresp\u001b[0m\u001b[1;33m\u001b[0m\u001b[1;33m\u001b[0m\u001b[0m\n",
      "\u001b[1;32m~\\anaconda3\\lib\\site-packages\\requests\\sessions.py\u001b[0m in \u001b[0;36msend\u001b[1;34m(self, request, **kwargs)\u001b[0m\n\u001b[0;32m    653\u001b[0m \u001b[1;33m\u001b[0m\u001b[0m\n\u001b[0;32m    654\u001b[0m         \u001b[1;31m# Send the request\u001b[0m\u001b[1;33m\u001b[0m\u001b[1;33m\u001b[0m\u001b[0m\n\u001b[1;32m--> 655\u001b[1;33m         \u001b[0mr\u001b[0m \u001b[1;33m=\u001b[0m \u001b[0madapter\u001b[0m\u001b[1;33m.\u001b[0m\u001b[0msend\u001b[0m\u001b[1;33m(\u001b[0m\u001b[0mrequest\u001b[0m\u001b[1;33m,\u001b[0m \u001b[1;33m**\u001b[0m\u001b[0mkwargs\u001b[0m\u001b[1;33m)\u001b[0m\u001b[1;33m\u001b[0m\u001b[1;33m\u001b[0m\u001b[0m\n\u001b[0m\u001b[0;32m    656\u001b[0m \u001b[1;33m\u001b[0m\u001b[0m\n\u001b[0;32m    657\u001b[0m         \u001b[1;31m# Total elapsed time of the request (approximately)\u001b[0m\u001b[1;33m\u001b[0m\u001b[1;33m\u001b[0m\u001b[0m\n",
      "\u001b[1;32m~\\anaconda3\\lib\\site-packages\\requests\\adapters.py\u001b[0m in \u001b[0;36msend\u001b[1;34m(self, request, stream, timeout, verify, cert, proxies)\u001b[0m\n\u001b[0;32m    437\u001b[0m         \u001b[1;32mtry\u001b[0m\u001b[1;33m:\u001b[0m\u001b[1;33m\u001b[0m\u001b[1;33m\u001b[0m\u001b[0m\n\u001b[0;32m    438\u001b[0m             \u001b[1;32mif\u001b[0m \u001b[1;32mnot\u001b[0m \u001b[0mchunked\u001b[0m\u001b[1;33m:\u001b[0m\u001b[1;33m\u001b[0m\u001b[1;33m\u001b[0m\u001b[0m\n\u001b[1;32m--> 439\u001b[1;33m                 resp = conn.urlopen(\n\u001b[0m\u001b[0;32m    440\u001b[0m                     \u001b[0mmethod\u001b[0m\u001b[1;33m=\u001b[0m\u001b[0mrequest\u001b[0m\u001b[1;33m.\u001b[0m\u001b[0mmethod\u001b[0m\u001b[1;33m,\u001b[0m\u001b[1;33m\u001b[0m\u001b[1;33m\u001b[0m\u001b[0m\n\u001b[0;32m    441\u001b[0m                     \u001b[0murl\u001b[0m\u001b[1;33m=\u001b[0m\u001b[0murl\u001b[0m\u001b[1;33m,\u001b[0m\u001b[1;33m\u001b[0m\u001b[1;33m\u001b[0m\u001b[0m\n",
      "\u001b[1;32m~\\anaconda3\\lib\\site-packages\\urllib3\\connectionpool.py\u001b[0m in \u001b[0;36murlopen\u001b[1;34m(self, method, url, body, headers, retries, redirect, assert_same_host, timeout, pool_timeout, release_conn, chunked, body_pos, **response_kw)\u001b[0m\n\u001b[0;32m    697\u001b[0m \u001b[1;33m\u001b[0m\u001b[0m\n\u001b[0;32m    698\u001b[0m             \u001b[1;31m# Make the request on the httplib connection object.\u001b[0m\u001b[1;33m\u001b[0m\u001b[1;33m\u001b[0m\u001b[0m\n\u001b[1;32m--> 699\u001b[1;33m             httplib_response = self._make_request(\n\u001b[0m\u001b[0;32m    700\u001b[0m                 \u001b[0mconn\u001b[0m\u001b[1;33m,\u001b[0m\u001b[1;33m\u001b[0m\u001b[1;33m\u001b[0m\u001b[0m\n\u001b[0;32m    701\u001b[0m                 \u001b[0mmethod\u001b[0m\u001b[1;33m,\u001b[0m\u001b[1;33m\u001b[0m\u001b[1;33m\u001b[0m\u001b[0m\n",
      "\u001b[1;32m~\\anaconda3\\lib\\site-packages\\urllib3\\connectionpool.py\u001b[0m in \u001b[0;36m_make_request\u001b[1;34m(self, conn, method, url, timeout, chunked, **httplib_request_kw)\u001b[0m\n\u001b[0;32m    443\u001b[0m                     \u001b[1;31m# Python 3 (including for exceptions like SystemExit).\u001b[0m\u001b[1;33m\u001b[0m\u001b[1;33m\u001b[0m\u001b[0m\n\u001b[0;32m    444\u001b[0m                     \u001b[1;31m# Otherwise it looks like a bug in the code.\u001b[0m\u001b[1;33m\u001b[0m\u001b[1;33m\u001b[0m\u001b[0m\n\u001b[1;32m--> 445\u001b[1;33m                     \u001b[0msix\u001b[0m\u001b[1;33m.\u001b[0m\u001b[0mraise_from\u001b[0m\u001b[1;33m(\u001b[0m\u001b[0me\u001b[0m\u001b[1;33m,\u001b[0m \u001b[1;32mNone\u001b[0m\u001b[1;33m)\u001b[0m\u001b[1;33m\u001b[0m\u001b[1;33m\u001b[0m\u001b[0m\n\u001b[0m\u001b[0;32m    446\u001b[0m         \u001b[1;32mexcept\u001b[0m \u001b[1;33m(\u001b[0m\u001b[0mSocketTimeout\u001b[0m\u001b[1;33m,\u001b[0m \u001b[0mBaseSSLError\u001b[0m\u001b[1;33m,\u001b[0m \u001b[0mSocketError\u001b[0m\u001b[1;33m)\u001b[0m \u001b[1;32mas\u001b[0m \u001b[0me\u001b[0m\u001b[1;33m:\u001b[0m\u001b[1;33m\u001b[0m\u001b[1;33m\u001b[0m\u001b[0m\n\u001b[0;32m    447\u001b[0m             \u001b[0mself\u001b[0m\u001b[1;33m.\u001b[0m\u001b[0m_raise_timeout\u001b[0m\u001b[1;33m(\u001b[0m\u001b[0merr\u001b[0m\u001b[1;33m=\u001b[0m\u001b[0me\u001b[0m\u001b[1;33m,\u001b[0m \u001b[0murl\u001b[0m\u001b[1;33m=\u001b[0m\u001b[0murl\u001b[0m\u001b[1;33m,\u001b[0m \u001b[0mtimeout_value\u001b[0m\u001b[1;33m=\u001b[0m\u001b[0mread_timeout\u001b[0m\u001b[1;33m)\u001b[0m\u001b[1;33m\u001b[0m\u001b[1;33m\u001b[0m\u001b[0m\n",
      "\u001b[1;32m~\\anaconda3\\lib\\site-packages\\urllib3\\packages\\six.py\u001b[0m in \u001b[0;36mraise_from\u001b[1;34m(value, from_value)\u001b[0m\n",
      "\u001b[1;32m~\\anaconda3\\lib\\site-packages\\urllib3\\connectionpool.py\u001b[0m in \u001b[0;36m_make_request\u001b[1;34m(self, conn, method, url, timeout, chunked, **httplib_request_kw)\u001b[0m\n\u001b[0;32m    438\u001b[0m                 \u001b[1;31m# Python 3\u001b[0m\u001b[1;33m\u001b[0m\u001b[1;33m\u001b[0m\u001b[0m\n\u001b[0;32m    439\u001b[0m                 \u001b[1;32mtry\u001b[0m\u001b[1;33m:\u001b[0m\u001b[1;33m\u001b[0m\u001b[1;33m\u001b[0m\u001b[0m\n\u001b[1;32m--> 440\u001b[1;33m                     \u001b[0mhttplib_response\u001b[0m \u001b[1;33m=\u001b[0m \u001b[0mconn\u001b[0m\u001b[1;33m.\u001b[0m\u001b[0mgetresponse\u001b[0m\u001b[1;33m(\u001b[0m\u001b[1;33m)\u001b[0m\u001b[1;33m\u001b[0m\u001b[1;33m\u001b[0m\u001b[0m\n\u001b[0m\u001b[0;32m    441\u001b[0m                 \u001b[1;32mexcept\u001b[0m \u001b[0mBaseException\u001b[0m \u001b[1;32mas\u001b[0m \u001b[0me\u001b[0m\u001b[1;33m:\u001b[0m\u001b[1;33m\u001b[0m\u001b[1;33m\u001b[0m\u001b[0m\n\u001b[0;32m    442\u001b[0m                     \u001b[1;31m# Remove the TypeError from the exception chain in\u001b[0m\u001b[1;33m\u001b[0m\u001b[1;33m\u001b[0m\u001b[0m\n",
      "\u001b[1;32m~\\anaconda3\\lib\\http\\client.py\u001b[0m in \u001b[0;36mgetresponse\u001b[1;34m(self)\u001b[0m\n\u001b[0;32m   1369\u001b[0m         \u001b[1;32mtry\u001b[0m\u001b[1;33m:\u001b[0m\u001b[1;33m\u001b[0m\u001b[1;33m\u001b[0m\u001b[0m\n\u001b[0;32m   1370\u001b[0m             \u001b[1;32mtry\u001b[0m\u001b[1;33m:\u001b[0m\u001b[1;33m\u001b[0m\u001b[1;33m\u001b[0m\u001b[0m\n\u001b[1;32m-> 1371\u001b[1;33m                 \u001b[0mresponse\u001b[0m\u001b[1;33m.\u001b[0m\u001b[0mbegin\u001b[0m\u001b[1;33m(\u001b[0m\u001b[1;33m)\u001b[0m\u001b[1;33m\u001b[0m\u001b[1;33m\u001b[0m\u001b[0m\n\u001b[0m\u001b[0;32m   1372\u001b[0m             \u001b[1;32mexcept\u001b[0m \u001b[0mConnectionError\u001b[0m\u001b[1;33m:\u001b[0m\u001b[1;33m\u001b[0m\u001b[1;33m\u001b[0m\u001b[0m\n\u001b[0;32m   1373\u001b[0m                 \u001b[0mself\u001b[0m\u001b[1;33m.\u001b[0m\u001b[0mclose\u001b[0m\u001b[1;33m(\u001b[0m\u001b[1;33m)\u001b[0m\u001b[1;33m\u001b[0m\u001b[1;33m\u001b[0m\u001b[0m\n",
      "\u001b[1;32m~\\anaconda3\\lib\\http\\client.py\u001b[0m in \u001b[0;36mbegin\u001b[1;34m(self)\u001b[0m\n\u001b[0;32m    317\u001b[0m         \u001b[1;31m# read until we get a non-100 response\u001b[0m\u001b[1;33m\u001b[0m\u001b[1;33m\u001b[0m\u001b[0m\n\u001b[0;32m    318\u001b[0m         \u001b[1;32mwhile\u001b[0m \u001b[1;32mTrue\u001b[0m\u001b[1;33m:\u001b[0m\u001b[1;33m\u001b[0m\u001b[1;33m\u001b[0m\u001b[0m\n\u001b[1;32m--> 319\u001b[1;33m             \u001b[0mversion\u001b[0m\u001b[1;33m,\u001b[0m \u001b[0mstatus\u001b[0m\u001b[1;33m,\u001b[0m \u001b[0mreason\u001b[0m \u001b[1;33m=\u001b[0m \u001b[0mself\u001b[0m\u001b[1;33m.\u001b[0m\u001b[0m_read_status\u001b[0m\u001b[1;33m(\u001b[0m\u001b[1;33m)\u001b[0m\u001b[1;33m\u001b[0m\u001b[1;33m\u001b[0m\u001b[0m\n\u001b[0m\u001b[0;32m    320\u001b[0m             \u001b[1;32mif\u001b[0m \u001b[0mstatus\u001b[0m \u001b[1;33m!=\u001b[0m \u001b[0mCONTINUE\u001b[0m\u001b[1;33m:\u001b[0m\u001b[1;33m\u001b[0m\u001b[1;33m\u001b[0m\u001b[0m\n\u001b[0;32m    321\u001b[0m                 \u001b[1;32mbreak\u001b[0m\u001b[1;33m\u001b[0m\u001b[1;33m\u001b[0m\u001b[0m\n",
      "\u001b[1;32m~\\anaconda3\\lib\\http\\client.py\u001b[0m in \u001b[0;36m_read_status\u001b[1;34m(self)\u001b[0m\n\u001b[0;32m    278\u001b[0m \u001b[1;33m\u001b[0m\u001b[0m\n\u001b[0;32m    279\u001b[0m     \u001b[1;32mdef\u001b[0m \u001b[0m_read_status\u001b[0m\u001b[1;33m(\u001b[0m\u001b[0mself\u001b[0m\u001b[1;33m)\u001b[0m\u001b[1;33m:\u001b[0m\u001b[1;33m\u001b[0m\u001b[1;33m\u001b[0m\u001b[0m\n\u001b[1;32m--> 280\u001b[1;33m         \u001b[0mline\u001b[0m \u001b[1;33m=\u001b[0m \u001b[0mstr\u001b[0m\u001b[1;33m(\u001b[0m\u001b[0mself\u001b[0m\u001b[1;33m.\u001b[0m\u001b[0mfp\u001b[0m\u001b[1;33m.\u001b[0m\u001b[0mreadline\u001b[0m\u001b[1;33m(\u001b[0m\u001b[0m_MAXLINE\u001b[0m \u001b[1;33m+\u001b[0m \u001b[1;36m1\u001b[0m\u001b[1;33m)\u001b[0m\u001b[1;33m,\u001b[0m \u001b[1;34m\"iso-8859-1\"\u001b[0m\u001b[1;33m)\u001b[0m\u001b[1;33m\u001b[0m\u001b[1;33m\u001b[0m\u001b[0m\n\u001b[0m\u001b[0;32m    281\u001b[0m         \u001b[1;32mif\u001b[0m \u001b[0mlen\u001b[0m\u001b[1;33m(\u001b[0m\u001b[0mline\u001b[0m\u001b[1;33m)\u001b[0m \u001b[1;33m>\u001b[0m \u001b[0m_MAXLINE\u001b[0m\u001b[1;33m:\u001b[0m\u001b[1;33m\u001b[0m\u001b[1;33m\u001b[0m\u001b[0m\n\u001b[0;32m    282\u001b[0m             \u001b[1;32mraise\u001b[0m \u001b[0mLineTooLong\u001b[0m\u001b[1;33m(\u001b[0m\u001b[1;34m\"status line\"\u001b[0m\u001b[1;33m)\u001b[0m\u001b[1;33m\u001b[0m\u001b[1;33m\u001b[0m\u001b[0m\n",
      "\u001b[1;32m~\\anaconda3\\lib\\socket.py\u001b[0m in \u001b[0;36mreadinto\u001b[1;34m(self, b)\u001b[0m\n\u001b[0;32m    702\u001b[0m         \u001b[1;32mwhile\u001b[0m \u001b[1;32mTrue\u001b[0m\u001b[1;33m:\u001b[0m\u001b[1;33m\u001b[0m\u001b[1;33m\u001b[0m\u001b[0m\n\u001b[0;32m    703\u001b[0m             \u001b[1;32mtry\u001b[0m\u001b[1;33m:\u001b[0m\u001b[1;33m\u001b[0m\u001b[1;33m\u001b[0m\u001b[0m\n\u001b[1;32m--> 704\u001b[1;33m                 \u001b[1;32mreturn\u001b[0m \u001b[0mself\u001b[0m\u001b[1;33m.\u001b[0m\u001b[0m_sock\u001b[0m\u001b[1;33m.\u001b[0m\u001b[0mrecv_into\u001b[0m\u001b[1;33m(\u001b[0m\u001b[0mb\u001b[0m\u001b[1;33m)\u001b[0m\u001b[1;33m\u001b[0m\u001b[1;33m\u001b[0m\u001b[0m\n\u001b[0m\u001b[0;32m    705\u001b[0m             \u001b[1;32mexcept\u001b[0m \u001b[0mtimeout\u001b[0m\u001b[1;33m:\u001b[0m\u001b[1;33m\u001b[0m\u001b[1;33m\u001b[0m\u001b[0m\n\u001b[0;32m    706\u001b[0m                 \u001b[0mself\u001b[0m\u001b[1;33m.\u001b[0m\u001b[0m_timeout_occurred\u001b[0m \u001b[1;33m=\u001b[0m \u001b[1;32mTrue\u001b[0m\u001b[1;33m\u001b[0m\u001b[1;33m\u001b[0m\u001b[0m\n",
      "\u001b[1;32m~\\anaconda3\\lib\\ssl.py\u001b[0m in \u001b[0;36mrecv_into\u001b[1;34m(self, buffer, nbytes, flags)\u001b[0m\n\u001b[0;32m   1239\u001b[0m                   \u001b[1;34m\"non-zero flags not allowed in calls to recv_into() on %s\"\u001b[0m \u001b[1;33m%\u001b[0m\u001b[1;33m\u001b[0m\u001b[1;33m\u001b[0m\u001b[0m\n\u001b[0;32m   1240\u001b[0m                   self.__class__)\n\u001b[1;32m-> 1241\u001b[1;33m             \u001b[1;32mreturn\u001b[0m \u001b[0mself\u001b[0m\u001b[1;33m.\u001b[0m\u001b[0mread\u001b[0m\u001b[1;33m(\u001b[0m\u001b[0mnbytes\u001b[0m\u001b[1;33m,\u001b[0m \u001b[0mbuffer\u001b[0m\u001b[1;33m)\u001b[0m\u001b[1;33m\u001b[0m\u001b[1;33m\u001b[0m\u001b[0m\n\u001b[0m\u001b[0;32m   1242\u001b[0m         \u001b[1;32melse\u001b[0m\u001b[1;33m:\u001b[0m\u001b[1;33m\u001b[0m\u001b[1;33m\u001b[0m\u001b[0m\n\u001b[0;32m   1243\u001b[0m             \u001b[1;32mreturn\u001b[0m \u001b[0msuper\u001b[0m\u001b[1;33m(\u001b[0m\u001b[1;33m)\u001b[0m\u001b[1;33m.\u001b[0m\u001b[0mrecv_into\u001b[0m\u001b[1;33m(\u001b[0m\u001b[0mbuffer\u001b[0m\u001b[1;33m,\u001b[0m \u001b[0mnbytes\u001b[0m\u001b[1;33m,\u001b[0m \u001b[0mflags\u001b[0m\u001b[1;33m)\u001b[0m\u001b[1;33m\u001b[0m\u001b[1;33m\u001b[0m\u001b[0m\n",
      "\u001b[1;32m~\\anaconda3\\lib\\ssl.py\u001b[0m in \u001b[0;36mread\u001b[1;34m(self, len, buffer)\u001b[0m\n\u001b[0;32m   1097\u001b[0m         \u001b[1;32mtry\u001b[0m\u001b[1;33m:\u001b[0m\u001b[1;33m\u001b[0m\u001b[1;33m\u001b[0m\u001b[0m\n\u001b[0;32m   1098\u001b[0m             \u001b[1;32mif\u001b[0m \u001b[0mbuffer\u001b[0m \u001b[1;32mis\u001b[0m \u001b[1;32mnot\u001b[0m \u001b[1;32mNone\u001b[0m\u001b[1;33m:\u001b[0m\u001b[1;33m\u001b[0m\u001b[1;33m\u001b[0m\u001b[0m\n\u001b[1;32m-> 1099\u001b[1;33m                 \u001b[1;32mreturn\u001b[0m \u001b[0mself\u001b[0m\u001b[1;33m.\u001b[0m\u001b[0m_sslobj\u001b[0m\u001b[1;33m.\u001b[0m\u001b[0mread\u001b[0m\u001b[1;33m(\u001b[0m\u001b[0mlen\u001b[0m\u001b[1;33m,\u001b[0m \u001b[0mbuffer\u001b[0m\u001b[1;33m)\u001b[0m\u001b[1;33m\u001b[0m\u001b[1;33m\u001b[0m\u001b[0m\n\u001b[0m\u001b[0;32m   1100\u001b[0m             \u001b[1;32melse\u001b[0m\u001b[1;33m:\u001b[0m\u001b[1;33m\u001b[0m\u001b[1;33m\u001b[0m\u001b[0m\n\u001b[0;32m   1101\u001b[0m                 \u001b[1;32mreturn\u001b[0m \u001b[0mself\u001b[0m\u001b[1;33m.\u001b[0m\u001b[0m_sslobj\u001b[0m\u001b[1;33m.\u001b[0m\u001b[0mread\u001b[0m\u001b[1;33m(\u001b[0m\u001b[0mlen\u001b[0m\u001b[1;33m)\u001b[0m\u001b[1;33m\u001b[0m\u001b[1;33m\u001b[0m\u001b[0m\n",
      "\u001b[1;31mKeyboardInterrupt\u001b[0m: "
     ]
    }
   ],
   "source": [
    "df = pd.DataFrame(final_list,columns = ['uuid', 'titleName', 'itemLink', ])\n",
    "site = (df.itemLink).tolist()\n",
    "#site = 'https://digitalcollections.nypl.org/items/510d47e2-f5ac-a3d9-e040-e00a18064a99'#,http://digitalcollections.nypl.org/items/0ebb0dd0-c6ce-012f-1581-58d385a7bc34,'\n",
    "count = 1\n",
    "for each in site:\n",
    "    response = requests.get(each)\n",
    "    soup = BeautifulSoup(response.text, 'html.parser')\n",
    "    image_tags = soup.find_all('img')\n",
    "    urls = [img['src'] for img in image_tags]\n",
    "    #print(response.content)\n",
    "    #print(soup)\n",
    "    #print(image_tags)\n",
    "    #print(urls)\n",
    "    \n",
    "    for url in urls:\n",
    "        filename = os.path.join(\"testing dataset\", str(count)+'.png')\n",
    "        count +=1\n",
    "        print(url)\n",
    "        #filename = r'new_folder'+str(count)+'.png'\n",
    "        #print(filename)\n",
    "        #if not filename:\n",
    "         #    print(\"Regular expression didn't match with the url: {}\".format(url))\n",
    "          #   continue\n",
    "        #with open(filename.group(1), 'wb') as f:\n",
    "        with open(filename, 'wb') as f:\n",
    "            if 'http' not in url:\n",
    "                url = '{}{}'.format(site, url)\n",
    "                print(url)\n",
    "            response = requests.get(url)\n",
    "            #print(response.content)\n",
    "            f.write(response.content)\n",
    "    \n",
    "# print(\"Download complete, downloaded images can be found in current directory!\")\n",
    "#https://www.codespeedy.com/download-all-images-of-a-webpage-using-python/"
   ]
  },
  {
   "cell_type": "code",
   "execution_count": 12,
   "id": "59900c36-c13e-44ed-b602-0a5ad8b3713e",
   "metadata": {},
   "outputs": [],
   "source": [
    "# Convolutional Neural Network\n",
    "\n",
    "#Installing Theano\n",
    "#pip install --upgrade --no-deps git+git://github.com/Theano/Theano.git\n",
    "\n",
    "#Installing Tensorflow\n",
    "#pip install tensorflow\n",
    "\n",
    "#Installing Keras\n",
    "#pip install --upgrade keras\n",
    "\n",
    "# Part 1 - Building the CNN\n",
    "\n",
    "# Importing the Keras libraries and packages\n",
    "from keras.models import Sequential\n",
    "from keras.layers import Conv2D\n",
    "from keras.layers import MaxPooling2D\n",
    "from keras.layers import Flatten\n",
    "from keras.layers import Dense\n",
    "\n",
    "# Initialising the CNN\n",
    "classifier = Sequential()\n"
   ]
  },
  {
   "cell_type": "code",
   "execution_count": 13,
   "id": "32307663",
   "metadata": {},
   "outputs": [],
   "source": [
    "# Step 1 - Convolution\n",
    "# Convolution - input image, applying feature detectors => feature map\n",
    "# 3D Array because colored images\n",
    "classifier.add(Conv2D(32, (3, 3), input_shape = (64, 64, 3), activation = 'relu'))\n",
    "\n",
    "# Step 2 - Pooling\n",
    "# Feature Map - Take Max -> Pooled Feature Map, reduced size, reduce complexity\n",
    "# without losing performance, don't lose spatial structure\n",
    "classifier.add(MaxPooling2D(pool_size = (2, 2)))\n",
    "\n",
    "# Adding second convolution layer\n",
    "# don't need to include input_shape since we're done it\n",
    "classifier.add(Conv2D(32, (3, 3), activation = 'relu'))\n",
    "classifier.add(MaxPooling2D(pool_size = (2, 2)))"
   ]
  },
  {
   "cell_type": "code",
   "execution_count": 14,
   "id": "690f52c9",
   "metadata": {},
   "outputs": [],
   "source": [
    "# Step 3 - Flattening\n",
    "# Pooled Feature Maps apply flattening maps to a huge vector \n",
    "# for a future ANN that is fully-conntected\n",
    "# Why don't we lose spatial structure by flattening?\n",
    "# We don't because the high numbers from convolution feature from the feature detector\n",
    "# Max Pooling keeps them these high numbers, and flattening keeps these high numbers\n",
    "# Why didn't we take all the pixels and flatten into a huge vector?\n",
    "# Only pixels of itself, but not how they're spatially structured around it\n",
    "# But if we apply convolution and pooling, since feature map corresponds to each feature \n",
    "# of an image, specific image unique pixels, we keep the spatial structure of the picture.\n",
    "classifier.add(Flatten())"
   ]
  },
  {
   "cell_type": "code",
   "execution_count": 15,
   "id": "c596de47",
   "metadata": {},
   "outputs": [],
   "source": [
    "# Step 4 - Full Connection\n",
    "classifier.add(Dense(units = 128, activation = 'relu'))\n",
    "classifier.add(Dense(units = 1, activation = 'sigmoid'))\n",
    "\n",
    "# Compile - SGD, Loss Function, Performance Metric\n",
    "# Logarithmic loss - binary cross entropy, more than two outcomes, categorical cross entropy\n",
    "# Metrics is the accuracy metric\n",
    "classifier.compile(optimizer = 'adam', loss = 'binary_crossentropy', metrics = ['accuracy'])"
   ]
  },
  {
   "cell_type": "code",
   "execution_count": 57,
   "id": "d92c9952",
   "metadata": {},
   "outputs": [
    {
     "name": "stdout",
     "output_type": "stream",
     "text": [
      "Found 7 images belonging to 1 classes.\n",
      "Found 0 images belonging to 0 classes.\n"
     ]
    },
    {
     "name": "stderr",
     "output_type": "stream",
     "text": [
      "C:\\Users\\nehar\\AppData\\Local\\Temp/ipykernel_27320/1076936580.py:33: UserWarning: `Model.fit_generator` is deprecated and will be removed in a future version. Please use `Model.fit`, which supports generators.\n",
      "  classifier.fit_generator(training_set,\n"
     ]
    },
    {
     "name": "stdout",
     "output_type": "stream",
     "text": [
      "Epoch 1/25\n",
      "   1/8000 [..............................] - ETA: 22:26 - loss: 0.0612 - accuracy: 1.0000WARNING:tensorflow:Your input ran out of data; interrupting training. Make sure that your dataset or generator can generate at least `steps_per_epoch * epochs` batches (in this case, 200000 batches). You may need to use the repeat() function when building your dataset.\n",
      "8000/8000 [==============================] - 0s 9us/step - loss: 0.0612 - accuracy: 1.0000\n"
     ]
    },
    {
     "data": {
      "text/plain": [
       "<keras.callbacks.History at 0x190eaf9a6d0>"
      ]
     },
     "execution_count": 57,
     "metadata": {},
     "output_type": "execute_result"
    }
   ],
   "source": [
    "# part 2 - Fitting the CNN to the images \n",
    "# Keras preprocessing images to prevent overfitting, image augmentation, \n",
    "# great accuracy on training poor results on test sets\n",
    "# Need lots of images to find correlations, patterns in pixels\n",
    "# Find patterns in pixels, 10000 images, 8000 training, not much exactly or use a trick\n",
    "# Image augmentation will create batches and each batch will create random transformation\n",
    "# leading to more diverse images and more training\n",
    "# Image augmentation allows us to enrich our dataset to prevent overfitting\n",
    "\n",
    "from keras.preprocessing.image import ImageDataGenerator\n",
    "\n",
    "train_datagen = ImageDataGenerator(\n",
    "        rescale=1./255,\n",
    "        shear_range=0.2,\n",
    "        zoom_range=0.2,\n",
    "        horizontal_flip=True)\n",
    "\n",
    "test_datagen = ImageDataGenerator(rescale=1./255)\n",
    "\n",
    "training_set = train_datagen.flow_from_directory('training dataset',\n",
    "                                                 target_size=(64, 64),\n",
    "                                                 batch_size=32,\n",
    "                                                 class_mode='binary')\n",
    "\n",
    "testing_set = test_datagen.flow_from_directory('testing dataset',\n",
    "                                            target_size=(64, 64),\n",
    "                                            batch_size=32,\n",
    "                                            class_mode='binary')\n",
    "samples_per_epoch=8000\n",
    "nb_epoch=25\n",
    "nb_val_samples=2000\n",
    "\n",
    "classifier.fit_generator(training_set,\n",
    "                        steps_per_epoch=samples_per_epoch,\n",
    "                        epochs=nb_epoch,\n",
    "                        validation_data=testing_set,\n",
    "                        validation_steps=nb_val_samples)"
   ]
  },
  {
   "cell_type": "code",
   "execution_count": 62,
   "id": "97d65124",
   "metadata": {},
   "outputs": [
    {
     "name": "stdout",
     "output_type": "stream",
     "text": [
      "1/1 [==============================] - 0s 317ms/step\n",
      "NOT Woman\n"
     ]
    }
   ],
   "source": [
    "# Part 3 - Making new predictions\n",
    "\n",
    "import numpy as np\n",
    "from keras.utils import load_img, img_to_array\n",
    "test_image = load_img('testing dataset/2.png', target_size=(64, 64))\n",
    "test_image = img_to_array(test_image)\n",
    "test_image = np.expand_dims(test_image, axis = 0)\n",
    "result = classifier.predict(test_image)\n",
    "training_set.class_indices\n",
    "if result[0][0] == 1: \n",
    "    prediction = 'Woman'\n",
    "    print('Woman')\n",
    "else:\n",
    "    prediction = 'NOT Woman'\n",
    "    print('NOT Woman')"
   ]
  },
  {
   "cell_type": "code",
   "execution_count": 29,
   "id": "a6e84be0",
   "metadata": {},
   "outputs": [
    {
     "name": "stdout",
     "output_type": "stream",
     "text": [
      "<class 'list'>\n"
     ]
    }
   ],
   "source": [
    "df = pd.DataFrame(final_list,columns = ['uuid', 'titleName', 'itemLink', ])\n",
    "\n",
    "list1 = (df.itemLink).tolist()\n"
   ]
  },
  {
   "cell_type": "code",
   "execution_count": null,
   "id": "35861c1c",
   "metadata": {},
   "outputs": [],
   "source": []
  }
 ],
 "metadata": {
  "kernelspec": {
   "display_name": "Python 3 (ipykernel)",
   "language": "python",
   "name": "python3"
  },
  "language_info": {
   "codemirror_mode": {
    "name": "ipython",
    "version": 3
   },
   "file_extension": ".py",
   "mimetype": "text/x-python",
   "name": "python",
   "nbconvert_exporter": "python",
   "pygments_lexer": "ipython3",
   "version": "3.9.7"
  }
 },
 "nbformat": 4,
 "nbformat_minor": 5
}
